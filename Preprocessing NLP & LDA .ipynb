{
 "cells": [
  {
   "cell_type": "code",
   "execution_count": 127,
   "metadata": {},
   "outputs": [
    {
     "name": "stdout",
     "output_type": "stream",
     "text": [
      "[nltk_data] Downloading package stopwords to\n",
      "[nltk_data]     /Users/samchow/nltk_data...\n",
      "[nltk_data]   Package stopwords is already up-to-date!\n"
     ]
    }
   ],
   "source": [
    "import nltk\n",
    "nltk.download('stopwords')\n",
    "\n",
    "import re\n",
    "import numpy as np\n",
    "import pandas as pd\n",
    "from pprint import pprint\n",
    "\n",
    "import gensim\n",
    "import gensim.corpora as corpora\n",
    "from gensim.utils import simple_preprocess\n",
    "from gensim.models import CoherenceModel\n",
    "\n",
    "import spacy\n",
    "nlp = spacy.load('en_core_web_lg', disable=['parser', 'ner'])\n",
    "\n",
    "import pyLDAvis\n",
    "import pyLDAvis.gensim\n",
    "import matplotlib.pyplot as plt\n",
    "%matplotlib inline\n",
    "\n",
    "import logging\n",
    "logging.basicConfig(format='%(asctime)s : %(levelname)s : %(message)s', level=logging.ERROR)\n",
    "\n",
    "import warnings\n",
    "warnings.filterwarnings(\"ignore\", category=DeprecationWarning)"
   ]
  },
  {
   "cell_type": "code",
   "execution_count": 72,
   "metadata": {},
   "outputs": [],
   "source": []
  },
  {
   "cell_type": "code",
   "execution_count": 74,
   "metadata": {},
   "outputs": [
    {
     "name": "stdout",
     "output_type": "stream",
     "text": [
      "The length of the df before deleting is: 237738\n",
      "4824\n",
      "13015\n",
      "The length of the df after deleting is: 220063\n"
     ]
    }
   ],
   "source": [
    "#Import Data\n",
    "df= pd.read_hdf('final_data.hdf', 'table')\n",
    "\n",
    "# Clean missing data by adding NA values to empty strings to later row-wise delete. \n",
    "print(\"The length of the df before deleting is: {}\".format(len(df)))\n",
    "\n",
    "df['strain_list'].replace('', np.nan, inplace=True)\n",
    "df['review_list'].replace(' ', np.nan, inplace=True)\n",
    "\n",
    "\n",
    "print(df['strain_list'].isnull().sum())\n",
    "print(df['review_list'].isnull().sum())\n",
    "\n",
    "df.dropna(subset=['strain_list'], inplace=True)\n",
    "df.dropna(subset=['review_list'], inplace=True)\n",
    "\n",
    "print(\"The length of the df after deleting is: {}\".format(len(df)))\n",
    "\n"
   ]
  },
  {
   "cell_type": "code",
   "execution_count": 140,
   "metadata": {},
   "outputs": [],
   "source": [
    "#Prepare stop words to eliminate\n",
    "from nltk.corpus import stopwords\n",
    "stop_words = stopwords.words('english')\n",
    "\n",
    "stop_words.extend(['read', 'more', '_bac', 'grow','look','get','come','obtain',\n",
    "                  'use','way','get','go','bro','bac','not','not','say','put'])\n",
    "\n"
   ]
  },
  {
   "cell_type": "code",
   "execution_count": 141,
   "metadata": {},
   "outputs": [
    {
     "name": "stdout",
     "output_type": "stream",
     "text": [
      "[['first', 'few', 'hours', 'very', 'uplifting', 'experience', 'you', 'slowly', 'feel', 'that', 'you', 'are', 'entering', 'another', 'plane', 'of', 'existence', 'you', 'slowly', 'feel', 'as', 'if', 'you', 'are', 'having', 'very', 'vivid', 'dream', 'of', 'memory', 'the', 'strain', 'brings', 'bac', 'read', 'more']]\n"
     ]
    }
   ],
   "source": [
    "data= df.review_list.values.tolist()\n",
    "\n",
    "def sent_to_words(sentences):\n",
    "    for sentence in sentences:\n",
    "        yield(gensim.utils.simple_preprocess(str(sentence), deacc=True))  # deacc=True removes punctuations\n",
    "\n",
    "data_words = list(sent_to_words(data))\n",
    "\n",
    "print(data_words[:1])"
   ]
  },
  {
   "cell_type": "code",
   "execution_count": 142,
   "metadata": {},
   "outputs": [
    {
     "name": "stderr",
     "output_type": "stream",
     "text": [
      "/Users/samchow/anaconda3/envs/trudope/lib/python3.6/site-packages/gensim/models/phrases.py:494: UserWarning: For a faster implementation, use the gensim.models.phrases.Phraser class\n",
      "  warnings.warn(\"For a faster implementation, use the gensim.models.phrases.Phraser class\")\n"
     ]
    },
    {
     "name": "stdout",
     "output_type": "stream",
     "text": [
      "['first', 'few', 'hours', 'very', 'uplifting', 'experience', 'you', 'slowly', 'feel', 'that', 'you', 'are', 'entering', 'another', 'plane', 'of', 'existence', 'you', 'slowly', 'feel', 'as', 'if', 'you', 'are', 'having', 'very', 'vivid', 'dream', 'of', 'memory', 'the', 'strain', 'brings_bac', 'read', 'more']\n"
     ]
    }
   ],
   "source": [
    "# Build the bigram and trigram models\n",
    "bigram = gensim.models.Phrases(data_words, min_count=5, threshold=100) # higher threshold fewer phrases.\n",
    "trigram = gensim.models.Phrases(bigram[data_words], threshold=100)  \n",
    "\n",
    "# Faster way to get a sentence clubbed as a trigram/bigram\n",
    "bigram_mod = gensim.models.phrases.Phraser(bigram)\n",
    "trigram_mod = gensim.models.phrases.Phraser(trigram)\n",
    "\n",
    "# See trigram example\n",
    "print(trigram_mod[bigram_mod[data_words[0]]])"
   ]
  },
  {
   "cell_type": "code",
   "execution_count": 143,
   "metadata": {},
   "outputs": [],
   "source": [
    "# Define functions for stopwords, bigrams, trigrams and lemmatization\n",
    "def remove_stopwords(texts):\n",
    "    return [[word for word in simple_preprocess(str(doc)) if word not in stop_words] for doc in texts]\n",
    "\n",
    "def make_bigrams(texts):\n",
    "    return [bigram_mod[doc] for doc in texts]\n",
    "\n",
    "def make_trigrams(texts):\n",
    "    return [trigram_mod[bigram_mod[doc]] for doc in texts]\n",
    "\n",
    "def lemmatization(texts, allowed_postags=['NOUN', 'ADJ', 'VERB', 'ADV']):\n",
    "    \"\"\"https://spacy.io/api/annotation\"\"\"\n",
    "    texts_out = []\n",
    "    for sent in texts:\n",
    "        doc = nlp(\" \".join(sent)) \n",
    "        texts_out.append([token.lemma_ for token in doc if token.pos_ in allowed_postags])\n",
    "    return texts_out"
   ]
  },
  {
   "cell_type": "code",
   "execution_count": 144,
   "metadata": {},
   "outputs": [],
   "source": [
    "data_words_nostops = remove_stopwords(data_words)"
   ]
  },
  {
   "cell_type": "code",
   "execution_count": null,
   "metadata": {},
   "outputs": [],
   "source": [
    "data_words_nostops[0]"
   ]
  },
  {
   "cell_type": "code",
   "execution_count": 146,
   "metadata": {},
   "outputs": [],
   "source": [
    "data_words_bigrams= make_bigrams(data_words_nostops)"
   ]
  },
  {
   "cell_type": "code",
   "execution_count": null,
   "metadata": {},
   "outputs": [],
   "source": [
    "data_words_bigrams"
   ]
  },
  {
   "cell_type": "code",
   "execution_count": 148,
   "metadata": {},
   "outputs": [],
   "source": [
    "data_lemmatized = lemmatization(data_words_bigrams, allowed_postags=['NOUN', 'ADJ', 'VERB', 'ADV'])\n"
   ]
  },
  {
   "cell_type": "code",
   "execution_count": null,
   "metadata": {},
   "outputs": [],
   "source": [
    "data_lemmatized"
   ]
  },
  {
   "cell_type": "code",
   "execution_count": 151,
   "metadata": {},
   "outputs": [
    {
     "name": "stdout",
     "output_type": "stream",
     "text": [
      "[[(0, 1), (1, 1), (2, 1), (3, 1), (4, 1), (5, 2), (6, 1), (7, 1), (8, 1), (9, 1), (10, 2), (11, 1), (12, 1), (13, 1)]]\n"
     ]
    },
    {
     "data": {
      "text/plain": [
       "[[('bring', 1),\n",
       "  ('dream', 1),\n",
       "  ('enter', 1),\n",
       "  ('existence', 1),\n",
       "  ('experience', 1),\n",
       "  ('feel', 2),\n",
       "  ('first', 1),\n",
       "  ('hour', 1),\n",
       "  ('memory', 1),\n",
       "  ('plane', 1),\n",
       "  ('slowly', 2),\n",
       "  ('strain', 1),\n",
       "  ('uplifting', 1),\n",
       "  ('vivid', 1)]]"
      ]
     },
     "execution_count": 151,
     "metadata": {},
     "output_type": "execute_result"
    }
   ],
   "source": [
    "#Creating the Dictionary and Corpus for topic modeling\n",
    "\n",
    "# Create Dictionary\n",
    "id2word = corpora.Dictionary(data_lemmatized)\n",
    "\n",
    "# Create Corpus\n",
    "texts = data_lemmatized\n",
    "\n",
    "# Term Document Frequency\n",
    "corpus = [id2word.doc2bow(text) for text in texts]\n",
    "\n",
    "# View\n",
    "print(corpus[:1])\n",
    "\n",
    "# Human readable format of corpus (term-frequency)\n",
    "[[(id2word[id], freq) for id, freq in cp] for cp in corpus[:1]]"
   ]
  },
  {
   "cell_type": "code",
   "execution_count": null,
   "metadata": {},
   "outputs": [],
   "source": [
    "# Build LDA model\n",
    "lda_model = gensim.models.ldamodel.LdaModel(corpus=corpus,\n",
    "                                           id2word=id2word,\n",
    "                                           num_topics=20, \n",
    "                                           random_state=100,\n",
    "                                           update_every=1,\n",
    "                                           chunksize=100,\n",
    "                                           passes=10,\n",
    "                                           alpha='auto',\n",
    "                                           per_word_topics=True)\n",
    "\n",
    "# Print the Keyword in the 10 topics\n",
    "pprint(lda_model.print_topics())\n",
    "doc_lda = lda_model[corpus]"
   ]
  },
  {
   "cell_type": "code",
   "execution_count": null,
   "metadata": {},
   "outputs": [],
   "source": [
    "# Compute Perplexity\n",
    "print('\\nPerplexity: ', lda_model.log_perplexity(corpus))  # a measure of how good the model is. lower the better.\n",
    "\n",
    "# Compute Coherence Score\n",
    "coherence_model_lda = CoherenceModel(model=lda_model, texts=data_lemmatized, dictionary=id2word, coherence='c_v')\n",
    "coherence_lda = coherence_model_lda.get_coherence()\n",
    "print('\\nCoherence Score: ', coherence_lda)"
   ]
  },
  {
   "cell_type": "code",
   "execution_count": 157,
   "metadata": {},
   "outputs": [
    {
     "name": "stderr",
     "output_type": "stream",
     "text": [
      "/Users/samchow/anaconda3/envs/trudope/lib/python3.6/site-packages/pyLDAvis/_prepare.py:257: FutureWarning: Sorting because non-concatenation axis is not aligned. A future version\n",
      "of pandas will change to not sort by default.\n",
      "\n",
      "To accept the future behavior, pass 'sort=False'.\n",
      "\n",
      "To retain the current behavior and silence the warning, pass 'sort=True'.\n",
      "\n",
      "  return pd.concat([default_term_info] + list(topic_dfs))\n"
     ]
    },
    {
     "data": {
      "text/html": [
       "\n",
       "<link rel=\"stylesheet\" type=\"text/css\" href=\"https://cdn.rawgit.com/bmabey/pyLDAvis/files/ldavis.v1.0.0.css\">\n",
       "\n",
       "\n",
       "<div id=\"ldavis_el677331158461594803066600750\"></div>\n",
       "<script type=\"text/javascript\">\n",
       "\n",
       "var ldavis_el677331158461594803066600750_data = {\"mdsDat\": {\"x\": [0.3987816398435267, 0.16748152553908713, 0.0652889207603983, 0.03469799996950989, 0.039518381213193635, -0.025629631649025507, 0.005681981752864741, 0.014264644322402067, -0.0199103363806071, -0.040553676224585625, -0.04547768379088019, -0.033689801615414156, -0.04496796255764817, -0.06047026296174309, -0.06276910243578943, -0.06638747123570146, -0.07326174497008688, -0.0769268031349759, -0.07416601191159629, -0.10150460453292834], \"y\": [0.2294618561586029, -0.4096877578583612, -0.04900437489695714, -0.02094734268146964, -0.02709817659963739, 0.021786892944212488, -0.0037350758101140917, -0.004691766607299968, 0.004801469129122703, 0.02481107495955725, 0.01512880475350568, 0.00844850822774238, 0.020440236979663684, 0.022022943359936178, 0.028543646618947014, 0.02706177158428691, 0.02785079746263944, 0.022143214791633246, 0.02822389250372414, 0.0344393849802648], \"topics\": [1, 2, 3, 4, 5, 6, 7, 8, 9, 10, 11, 12, 13, 14, 15, 16, 17, 18, 19, 20], \"cluster\": [1, 1, 1, 1, 1, 1, 1, 1, 1, 1, 1, 1, 1, 1, 1, 1, 1, 1, 1, 1], \"Freq\": [15.742729187011719, 9.0482816696167, 6.569703578948975, 6.018361568450928, 5.903885364532471, 4.885469913482666, 4.681324005126953, 4.652739524841309, 4.493487358093262, 4.2901082038879395, 4.126707077026367, 3.900895357131958, 3.8258817195892334, 3.7919278144836426, 3.745011329650879, 3.3927061557769775, 3.2329015731811523, 2.9394850730895996, 2.823221206665039, 1.935168743133545]}, \"tinfo\": {\"Category\": [\"Default\", \"Default\", \"Default\", \"Default\", \"Default\", \"Default\", \"Default\", \"Default\", \"Default\", \"Default\", \"Default\", \"Default\", \"Default\", \"Default\", \"Default\", \"Default\", \"Default\", \"Default\", \"Default\", \"Default\", \"Default\", \"Default\", \"Default\", \"Default\", \"Default\", \"Default\", \"Default\", \"Default\", \"Default\", \"Default\", \"Topic1\", \"Topic1\", \"Topic1\", \"Topic1\", \"Topic1\", \"Topic1\", \"Topic1\", \"Topic1\", \"Topic1\", \"Topic1\", \"Topic1\", \"Topic1\", \"Topic1\", \"Topic1\", \"Topic1\", \"Topic1\", \"Topic1\", \"Topic1\", \"Topic1\", \"Topic1\", \"Topic1\", \"Topic1\", \"Topic1\", \"Topic1\", \"Topic1\", \"Topic1\", \"Topic1\", \"Topic1\", \"Topic1\", \"Topic1\", \"Topic2\", \"Topic2\", \"Topic2\", \"Topic2\", \"Topic2\", \"Topic2\", \"Topic2\", \"Topic2\", \"Topic2\", \"Topic2\", \"Topic2\", \"Topic2\", \"Topic2\", \"Topic2\", \"Topic2\", \"Topic2\", \"Topic2\", \"Topic2\", \"Topic2\", \"Topic2\", \"Topic2\", \"Topic2\", \"Topic2\", \"Topic2\", \"Topic2\", \"Topic2\", \"Topic2\", \"Topic2\", \"Topic2\", \"Topic2\", \"Topic3\", \"Topic3\", \"Topic3\", \"Topic3\", \"Topic3\", \"Topic3\", \"Topic3\", \"Topic3\", \"Topic3\", \"Topic3\", \"Topic3\", \"Topic3\", \"Topic3\", \"Topic3\", \"Topic3\", \"Topic3\", \"Topic3\", \"Topic3\", \"Topic3\", \"Topic3\", \"Topic3\", \"Topic3\", \"Topic3\", \"Topic3\", \"Topic3\", \"Topic3\", \"Topic3\", \"Topic3\", \"Topic3\", \"Topic3\", \"Topic4\", \"Topic4\", \"Topic4\", \"Topic4\", \"Topic4\", \"Topic4\", \"Topic4\", \"Topic4\", \"Topic4\", \"Topic4\", \"Topic4\", \"Topic4\", \"Topic4\", \"Topic4\", \"Topic4\", \"Topic4\", \"Topic4\", \"Topic4\", \"Topic4\", \"Topic4\", \"Topic4\", \"Topic4\", \"Topic4\", \"Topic4\", \"Topic4\", \"Topic4\", \"Topic4\", \"Topic4\", \"Topic4\", \"Topic4\", \"Topic5\", \"Topic5\", \"Topic5\", \"Topic5\", \"Topic5\", \"Topic5\", \"Topic5\", \"Topic5\", \"Topic5\", \"Topic5\", \"Topic5\", \"Topic5\", \"Topic5\", \"Topic5\", \"Topic5\", \"Topic5\", \"Topic5\", \"Topic5\", \"Topic5\", \"Topic5\", \"Topic5\", \"Topic5\", \"Topic5\", \"Topic5\", \"Topic5\", \"Topic5\", \"Topic5\", \"Topic5\", \"Topic5\", \"Topic5\", \"Topic6\", \"Topic6\", \"Topic6\", \"Topic6\", \"Topic6\", \"Topic6\", \"Topic6\", \"Topic6\", \"Topic6\", \"Topic6\", \"Topic6\", \"Topic6\", \"Topic6\", \"Topic6\", \"Topic6\", \"Topic6\", \"Topic6\", \"Topic6\", \"Topic6\", \"Topic6\", \"Topic6\", \"Topic6\", \"Topic6\", \"Topic6\", \"Topic6\", \"Topic6\", \"Topic6\", \"Topic6\", \"Topic6\", \"Topic6\", \"Topic7\", \"Topic7\", \"Topic7\", \"Topic7\", \"Topic7\", \"Topic7\", \"Topic7\", \"Topic7\", \"Topic7\", \"Topic7\", \"Topic7\", \"Topic7\", \"Topic7\", \"Topic7\", \"Topic7\", \"Topic7\", \"Topic7\", \"Topic7\", \"Topic7\", \"Topic7\", \"Topic7\", \"Topic7\", \"Topic7\", \"Topic7\", \"Topic7\", \"Topic7\", \"Topic7\", \"Topic7\", \"Topic7\", \"Topic7\", \"Topic8\", \"Topic8\", \"Topic8\", \"Topic8\", \"Topic8\", \"Topic8\", \"Topic8\", \"Topic8\", \"Topic8\", \"Topic8\", \"Topic8\", \"Topic8\", \"Topic8\", \"Topic8\", \"Topic8\", \"Topic8\", \"Topic8\", \"Topic8\", \"Topic8\", \"Topic8\", \"Topic8\", \"Topic8\", \"Topic8\", \"Topic8\", \"Topic8\", \"Topic8\", \"Topic8\", \"Topic8\", \"Topic8\", \"Topic8\", \"Topic9\", \"Topic9\", \"Topic9\", \"Topic9\", \"Topic9\", \"Topic9\", \"Topic9\", \"Topic9\", \"Topic9\", \"Topic9\", \"Topic9\", \"Topic9\", \"Topic9\", \"Topic9\", \"Topic9\", \"Topic9\", \"Topic9\", \"Topic9\", \"Topic9\", \"Topic9\", \"Topic9\", \"Topic9\", \"Topic9\", \"Topic9\", \"Topic9\", \"Topic9\", \"Topic9\", \"Topic9\", \"Topic9\", \"Topic9\", \"Topic10\", \"Topic10\", \"Topic10\", \"Topic10\", \"Topic10\", \"Topic10\", \"Topic10\", \"Topic10\", \"Topic10\", \"Topic10\", \"Topic10\", \"Topic10\", \"Topic10\", \"Topic10\", \"Topic10\", \"Topic10\", \"Topic10\", \"Topic10\", \"Topic10\", \"Topic10\", \"Topic10\", \"Topic10\", \"Topic10\", \"Topic10\", \"Topic10\", \"Topic10\", \"Topic10\", \"Topic10\", \"Topic10\", \"Topic10\", \"Topic11\", \"Topic11\", \"Topic11\", \"Topic11\", \"Topic11\", \"Topic11\", \"Topic11\", \"Topic11\", \"Topic11\", \"Topic11\", \"Topic11\", \"Topic11\", \"Topic11\", \"Topic11\", \"Topic11\", \"Topic11\", \"Topic11\", \"Topic11\", \"Topic11\", \"Topic11\", \"Topic11\", \"Topic11\", \"Topic11\", \"Topic11\", \"Topic11\", \"Topic11\", \"Topic11\", \"Topic11\", \"Topic11\", \"Topic11\", \"Topic12\", \"Topic12\", \"Topic12\", \"Topic12\", \"Topic12\", \"Topic12\", \"Topic12\", \"Topic12\", \"Topic12\", \"Topic12\", \"Topic12\", \"Topic12\", \"Topic12\", \"Topic12\", \"Topic12\", \"Topic12\", \"Topic12\", \"Topic12\", \"Topic12\", \"Topic12\", \"Topic12\", \"Topic12\", \"Topic12\", \"Topic12\", \"Topic12\", \"Topic12\", \"Topic12\", \"Topic12\", \"Topic12\", \"Topic12\", \"Topic13\", \"Topic13\", \"Topic13\", \"Topic13\", \"Topic13\", \"Topic13\", \"Topic13\", \"Topic13\", \"Topic13\", \"Topic13\", \"Topic13\", \"Topic13\", \"Topic13\", \"Topic13\", \"Topic13\", \"Topic13\", \"Topic13\", \"Topic13\", \"Topic13\", \"Topic13\", \"Topic13\", \"Topic13\", \"Topic13\", \"Topic13\", \"Topic13\", \"Topic13\", \"Topic13\", \"Topic13\", \"Topic13\", \"Topic13\", \"Topic14\", \"Topic14\", \"Topic14\", \"Topic14\", \"Topic14\", \"Topic14\", \"Topic14\", \"Topic14\", \"Topic14\", \"Topic14\", \"Topic14\", \"Topic14\", \"Topic14\", \"Topic14\", \"Topic14\", \"Topic14\", \"Topic14\", \"Topic14\", \"Topic14\", \"Topic14\", \"Topic14\", \"Topic14\", \"Topic14\", \"Topic14\", \"Topic14\", \"Topic14\", \"Topic14\", \"Topic14\", \"Topic14\", \"Topic14\", \"Topic15\", \"Topic15\", \"Topic15\", \"Topic15\", \"Topic15\", \"Topic15\", \"Topic15\", \"Topic15\", \"Topic15\", \"Topic15\", \"Topic15\", \"Topic15\", \"Topic15\", \"Topic15\", \"Topic15\", \"Topic15\", \"Topic15\", \"Topic15\", \"Topic15\", \"Topic15\", \"Topic15\", \"Topic15\", \"Topic15\", \"Topic15\", \"Topic15\", \"Topic15\", \"Topic15\", \"Topic15\", \"Topic15\", \"Topic15\", \"Topic16\", \"Topic16\", \"Topic16\", \"Topic16\", \"Topic16\", \"Topic16\", \"Topic16\", \"Topic16\", \"Topic16\", \"Topic16\", \"Topic16\", \"Topic16\", \"Topic16\", \"Topic16\", \"Topic16\", \"Topic16\", \"Topic16\", \"Topic16\", \"Topic16\", \"Topic16\", \"Topic16\", \"Topic16\", \"Topic16\", \"Topic16\", \"Topic16\", \"Topic16\", \"Topic16\", \"Topic16\", \"Topic16\", \"Topic16\", \"Topic17\", \"Topic17\", \"Topic17\", \"Topic17\", \"Topic17\", \"Topic17\", \"Topic17\", \"Topic17\", \"Topic17\", \"Topic17\", \"Topic17\", \"Topic17\", \"Topic17\", \"Topic17\", \"Topic17\", \"Topic17\", \"Topic17\", \"Topic17\", \"Topic17\", \"Topic17\", \"Topic17\", \"Topic17\", \"Topic17\", \"Topic17\", \"Topic17\", \"Topic17\", \"Topic17\", \"Topic17\", \"Topic17\", \"Topic17\", \"Topic18\", \"Topic18\", \"Topic18\", \"Topic18\", \"Topic18\", \"Topic18\", \"Topic18\", \"Topic18\", \"Topic18\", \"Topic18\", \"Topic18\", \"Topic18\", \"Topic18\", \"Topic18\", \"Topic18\", \"Topic18\", \"Topic18\", \"Topic18\", \"Topic18\", \"Topic18\", \"Topic18\", \"Topic18\", \"Topic18\", \"Topic18\", \"Topic18\", \"Topic18\", \"Topic18\", \"Topic18\", \"Topic18\", \"Topic18\", \"Topic19\", \"Topic19\", \"Topic19\", \"Topic19\", \"Topic19\", \"Topic19\", \"Topic19\", \"Topic19\", \"Topic19\", \"Topic19\", \"Topic19\", \"Topic19\", \"Topic19\", \"Topic19\", \"Topic19\", \"Topic19\", \"Topic19\", \"Topic19\", \"Topic19\", \"Topic19\", \"Topic19\", \"Topic19\", \"Topic19\", \"Topic19\", \"Topic19\", \"Topic19\", \"Topic19\", \"Topic19\", \"Topic19\", \"Topic19\", \"Topic20\", \"Topic20\", \"Topic20\", \"Topic20\", \"Topic20\", \"Topic20\", \"Topic20\", \"Topic20\", \"Topic20\", \"Topic20\", \"Topic20\", \"Topic20\", \"Topic20\", \"Topic20\", \"Topic20\", \"Topic20\", \"Topic20\", \"Topic20\", \"Topic20\", \"Topic20\", \"Topic20\", \"Topic20\", \"Topic20\", \"Topic20\", \"Topic20\", \"Topic20\", \"Topic20\", \"Topic20\", \"Topic20\", \"Topic20\"], \"Freq\": [89451.0, 60441.0, 54402.0, 63410.0, 33308.0, 28143.0, 29988.0, 22444.0, 37595.0, 25350.0, 19088.0, 31463.0, 18125.0, 23303.0, 16404.0, 15931.0, 16641.0, 16306.0, 24036.0, 23378.0, 13519.0, 13572.0, 12888.0, 15755.0, 13405.0, 12776.0, 10604.0, 9325.0, 10590.0, 9757.0, 89450.1953125, 37594.5234375, 31462.236328125, 24035.529296875, 23377.3046875, 16097.9951171875, 14370.525390625, 13446.4580078125, 10738.0029296875, 8959.208984375, 7510.49169921875, 7473.7783203125, 6730.23388671875, 6315.24658203125, 5845.94287109375, 5428.3251953125, 5306.2021484375, 4942.8681640625, 4946.75830078125, 4865.63671875, 4556.9345703125, 4167.98779296875, 4095.023681640625, 3645.0419921875, 3510.213623046875, 3095.9658203125, 3025.281494140625, 2858.692626953125, 2695.410400390625, 2668.774169921875, 63409.44140625, 29987.716796875, 23302.3203125, 15754.67578125, 12574.642578125, 11099.984375, 9191.810546875, 8506.890625, 7786.81591796875, 7103.06396484375, 5834.5693359375, 4742.3310546875, 4299.75244140625, 3807.5673828125, 3148.967529296875, 3102.61865234375, 1900.16748046875, 1590.1300048828125, 1372.1566162109375, 990.38525390625, 919.9024047851562, 903.9020385742188, 868.8031005859375, 853.336181640625, 783.21826171875, 779.2940673828125, 757.7614135742188, 685.011962890625, 551.5426635742188, 495.5273132324219, 60440.203125, 25349.23046875, 13404.236328125, 12775.6484375, 11010.494140625, 7993.18994140625, 7681.8388671875, 7487.337890625, 2654.91259765625, 1786.3765869140625, 1318.2413330078125, 1310.3966064453125, 1221.642333984375, 1167.188232421875, 1112.7080078125, 1081.3671875, 861.3057250976562, 857.2973022460938, 691.783935546875, 636.9412841796875, 618.0209350585938, 602.6904296875, 596.2133178710938, 553.1438598632812, 512.7008666992188, 497.61102294921875, 441.98663330078125, 401.06842041015625, 397.6528015136719, 394.32135009765625, 33307.33984375, 28142.275390625, 16305.5712890625, 8116.9375, 6884.8837890625, 4546.609375, 3404.140625, 2716.397216796875, 2671.7109375, 2401.6884765625, 2338.57421875, 2252.316650390625, 1997.84375, 1821.1453857421875, 1727.80908203125, 1633.9224853515625, 1575.557373046875, 1546.9195556640625, 1497.9444580078125, 1275.003662109375, 1254.888671875, 1037.3927001953125, 952.0629272460938, 822.9537963867188, 819.8670043945312, 812.524658203125, 785.336181640625, 771.4716796875, 746.3408813476562, 730.8209228515625, 54401.96484375, 16640.8359375, 7557.96923828125, 7034.25244140625, 6799.2724609375, 6130.14111328125, 4951.15380859375, 4720.5498046875, 4462.43603515625, 2386.151611328125, 2338.68896484375, 2152.889892578125, 1792.275146484375, 1457.19482421875, 1381.76806640625, 1187.1357421875, 1129.561279296875, 962.1959228515625, 933.2301025390625, 895.7429809570312, 875.7324829101562, 870.9144897460938, 851.096923828125, 844.0383911132812, 758.8551635742188, 748.0973510742188, 727.98388671875, 727.1400146484375, 707.2191162109375, 700.3436279296875, 10589.3857421875, 10142.044921875, 6833.0546875, 6249.40234375, 4092.953125, 3187.3427734375, 2895.006591796875, 2870.134521484375, 2743.422607421875, 2575.488525390625, 2506.53369140625, 2383.87451171875, 2232.72314453125, 2035.759765625, 2030.967041015625, 1805.947509765625, 1707.7513427734375, 1547.883056640625, 1475.3809814453125, 1428.9990234375, 1409.0614013671875, 1395.8609619140625, 1386.1409912109375, 1354.4013671875, 1340.8922119140625, 1333.1588134765625, 1268.27978515625, 1249.2637939453125, 1193.8240966796875, 1036.4359130859375, 15930.935546875, 12887.908203125, 9728.23046875, 9333.7919921875, 8753.5224609375, 6127.15283203125, 5888.80126953125, 4607.5986328125, 4368.255859375, 3907.294677734375, 2757.146728515625, 2644.77587890625, 2379.658203125, 2150.7939453125, 2013.1766357421875, 1999.660888671875, 1865.6737060546875, 1550.7406005859375, 1467.547607421875, 1437.6710205078125, 1179.9234619140625, 1150.169921875, 1108.771240234375, 1080.978515625, 956.7974853515625, 956.3833618164062, 953.9689331054688, 943.5942993164062, 757.389892578125, 714.1532592773438, 10603.287109375, 10128.962890625, 8471.92578125, 8030.95458984375, 6791.3818359375, 5080.86865234375, 4880.142578125, 3157.59912109375, 2878.431640625, 2515.7626953125, 2346.1513671875, 2313.087890625, 2265.674072265625, 2243.225341796875, 2205.48583984375, 1928.5401611328125, 1909.9586181640625, 1848.100830078125, 1808.6962890625, 1709.9090576171875, 1676.6629638671875, 1612.6837158203125, 1578.61376953125, 1444.532470703125, 1366.711669921875, 1260.5946044921875, 1226.2418212890625, 1197.1107177734375, 1166.2841796875, 1141.1380615234375, 18124.951171875, 13571.880859375, 9505.060546875, 6659.822265625, 6563.5283203125, 6062.5068359375, 4215.89453125, 3631.914306640625, 3378.098388671875, 2821.398193359375, 2658.650146484375, 2504.475341796875, 2230.742431640625, 2042.677978515625, 1790.785400390625, 1738.7681884765625, 1447.4896240234375, 1416.00927734375, 1189.27587890625, 1052.36962890625, 937.0094604492188, 887.9055786132812, 844.0216674804688, 839.2825317382812, 722.9351806640625, 653.22998046875, 642.7897338867188, 634.2460327148438, 617.8531494140625, 614.3196411132812, 22443.544921875, 6797.81982421875, 5852.45556640625, 3916.21142578125, 3807.267333984375, 3535.81103515625, 3414.618896484375, 3127.708984375, 2856.982666015625, 2609.720458984375, 2405.1279296875, 2377.495849609375, 2358.173583984375, 2358.625732421875, 2047.6478271484375, 1885.836669921875, 1821.6474609375, 1642.1763916015625, 1515.6793212890625, 1475.35791015625, 1269.85791015625, 1185.5843505859375, 1171.1044921875, 1102.2401123046875, 1093.34521484375, 1087.3741455078125, 980.6570434570312, 897.9811401367188, 833.9855346679688, 807.4661254882812, 19087.24609375, 13518.3935546875, 6518.04150390625, 4346.67041015625, 4144.57861328125, 2718.17431640625, 2389.111328125, 2380.398193359375, 2196.06689453125, 2099.640869140625, 1950.3616943359375, 1938.97216796875, 1913.7020263671875, 1863.3121337890625, 1821.6224365234375, 1570.8736572265625, 1398.8875732421875, 1369.08984375, 1166.931884765625, 1095.9180908203125, 1074.539306640625, 1017.1627197265625, 973.9459838867188, 973.6570434570312, 964.36328125, 920.3576049804688, 834.677734375, 799.3890380859375, 788.760986328125, 739.593505859375, 9756.6669921875, 6702.0732421875, 6643.50927734375, 6182.0439453125, 5764.77587890625, 5200.9375, 4642.08056640625, 3814.9814453125, 3337.206298828125, 2758.4375, 2600.90625, 2351.6240234375, 2307.326171875, 2266.9423828125, 2049.28466796875, 1784.176025390625, 1755.1322021484375, 1386.738037109375, 1112.0140380859375, 1100.2803955078125, 973.6257934570312, 965.4618530273438, 895.1834106445312, 826.4674682617188, 803.9306030273438, 764.3919067382812, 758.1881713867188, 741.0717163085938, 733.2877807617188, 728.3370361328125, 16403.39453125, 5406.68896484375, 5351.81787109375, 4737.34130859375, 4690.35595703125, 4330.52490234375, 4037.38525390625, 3061.376220703125, 2747.597900390625, 2461.019287109375, 2257.12744140625, 2002.408935546875, 1906.45458984375, 1750.951171875, 1524.542236328125, 1288.064453125, 1280.457275390625, 1172.006591796875, 1058.983642578125, 1035.2142333984375, 1022.5501098632812, 959.1679077148438, 805.549072265625, 797.1036376953125, 752.1536254882812, 646.6353759765625, 629.8515014648438, 589.4259643554688, 561.9905395507812, 539.4966430664062, 5232.7900390625, 4650.5234375, 4498.865234375, 4311.1142578125, 4136.0185546875, 3743.5966796875, 3673.562255859375, 3317.442138671875, 2990.404052734375, 2572.064453125, 2302.556640625, 2214.20849609375, 2065.599853515625, 1966.598388671875, 1863.3663330078125, 1734.09521484375, 1571.993896484375, 1550.9501953125, 1504.7921142578125, 1363.4537353515625, 1255.32861328125, 1183.2100830078125, 1111.151123046875, 1092.8433837890625, 1080.05029296875, 962.9761352539062, 954.7963256835938, 899.8085327148438, 895.9133911132812, 892.4498901367188, 8461.1708984375, 5948.99658203125, 5873.7802734375, 4530.4658203125, 4172.65869140625, 3755.64501953125, 3298.89453125, 3242.23974609375, 2986.494384765625, 2859.2314453125, 2789.68017578125, 2750.7626953125, 2180.8818359375, 1958.7740478515625, 1766.876953125, 1713.744873046875, 1510.6005859375, 1406.743896484375, 1281.78466796875, 1113.0673828125, 1036.918212890625, 1005.380615234375, 1003.7449340820312, 955.6653442382812, 905.786865234375, 687.9240112304688, 678.9866943359375, 672.6240234375, 651.9430541992188, 638.3485107421875, 8380.140625, 7186.14599609375, 5426.65380859375, 3842.833984375, 3175.964599609375, 2925.2392578125, 2350.8857421875, 2093.752685546875, 2008.7000732421875, 1945.6031494140625, 1908.5391845703125, 1811.302734375, 1779.302490234375, 1762.1826171875, 1491.169921875, 1427.1549072265625, 1360.90087890625, 1356.4554443359375, 1249.795654296875, 1144.571044921875, 1053.1697998046875, 1047.1708984375, 977.5078125, 958.07861328125, 955.6195678710938, 902.4807739257812, 835.072021484375, 749.7722778320312, 695.5006713867188, 644.5673828125, 9324.154296875, 6947.28955078125, 5507.72900390625, 4663.84716796875, 4432.34130859375, 3297.618896484375, 2587.928466796875, 2004.1297607421875, 1967.606689453125, 1842.241943359375, 1798.1798095703125, 1711.5111083984375, 1650.644287109375, 1586.261962890625, 1551.87548828125, 1362.8026123046875, 1352.28466796875, 1064.7490234375, 1007.4172973632812, 977.972412109375, 951.470947265625, 919.8672485351562, 913.4840698242188, 776.4216918945312, 772.347900390625, 649.1324462890625, 586.2743530273438, 543.306640625, 531.1161499023438, 510.606201171875, 7309.28564453125, 6195.66357421875, 6171.65478515625, 4598.4189453125, 4450.890625, 2976.733154296875, 2501.60205078125, 2389.459716796875, 1923.8773193359375, 1851.7864990234375, 1706.49365234375, 1690.2957763671875, 1586.2548828125, 1545.6666259765625, 1415.73291015625, 1221.424072265625, 1168.26171875, 1110.137451171875, 1078.96044921875, 1010.629638671875, 917.6694946289062, 719.6737060546875, 717.931640625, 604.3343505859375, 583.2819213867188, 569.869873046875, 562.0828247070312, 557.4268188476562, 504.6533203125, 443.4145812988281, 4980.009765625, 4669.234375, 4511.66748046875, 3281.625244140625, 2957.681884765625, 2217.784912109375, 2057.231689453125, 1807.1805419921875, 1683.588134765625, 1603.5604248046875, 1412.5902099609375, 1343.2049560546875, 1283.2706298828125, 1253.840576171875, 1119.3189697265625, 1072.512451171875, 1070.9599609375, 1070.0928955078125, 1015.2924194335938, 1007.0455932617188, 951.7033081054688, 916.5789184570312, 912.9940795898438, 848.0094604492188, 843.5814208984375, 826.6342163085938, 747.9903564453125, 709.7850952148438, 668.0755615234375, 623.0640869140625, 2740.095458984375, 2476.92822265625, 1459.3466796875, 1399.473876953125, 1225.9510498046875, 1217.4058837890625, 1088.7720947265625, 1046.3209228515625, 1029.967041015625, 1012.97607421875, 992.508056640625, 942.0571899414062, 867.7509155273438, 725.4464721679688, 691.6373291015625, 678.8024291992188, 645.4683837890625, 614.3618774414062, 602.1818237304688, 557.0906372070312, 542.575439453125, 541.0449829101562, 538.0108642578125, 533.8489379882812, 531.2552490234375, 517.6017456054688, 516.69384765625, 489.9322509765625, 422.3523254394531, 405.8443603515625], \"Term\": [\"strain\", \"good\", \"great\", \"high\", \"taste\", \"smell\", \"feel\", \"bud\", \"smoke\", \"really\", \"love\", \"nice\", \"hit\", \"make\", \"pain\", \"indica\", \"day\", \"strong\", \"time\", \"get\", \"effect\", \"first\", \"sativa\", \"body\", \"amazing\", \"try\", \"definitely\", \"super\", \"sweet\", \"buzz\", \"strain\", \"smoke\", \"nice\", \"time\", \"get\", \"favorite\", \"relax\", \"give\", \"go\", \"also\", \"sleep\", \"right\", \"still\", \"top\", \"think\", \"want\", \"keep\", \"hour\", \"almost\", \"thing\", \"energetic\", \"new\", \"sure\", \"away\", \"people\", \"sleepy\", \"joint\", \"relaxation\", \"eye\", \"euphoria\", \"high\", \"feel\", \"make\", \"body\", \"head\", \"happy\", \"would\", \"much\", \"stuff\", \"uplifting\", \"night\", \"even\", \"do\", \"creative\", \"something\", \"intense\", \"laugh\", \"cool\", \"stop\", \"ready\", \"rather\", \"someone\", \"somewhat\", \"conversation\", \"wanna\", \"ache\", \"due\", \"float\", \"prepare\", \"notch\", \"good\", \"really\", \"amazing\", \"try\", \"pretty\", \"long\", \"last\", \"ever\", \"end\", \"worth\", \"og\", \"productive\", \"rush\", \"opinion\", \"wax\", \"literally\", \"medicate\", \"remind\", \"couchlock\", \"baby\", \"stick\", \"fucking\", \"fav\", \"chemdawg\", \"gdp\", \"line\", \"lasting\", \"goodness\", \"wise\", \"common\", \"taste\", \"smell\", \"strong\", \"smooth\", \"heavy\", \"bowl\", \"dank\", \"bong\", \"citrus\", \"star\", \"usually\", \"hand\", \"clear\", \"world\", \"solid\", \"piney\", \"straight\", \"mild\", \"exhale\", \"type\", \"slightly\", \"note\", \"notice\", \"finish\", \"fairly\", \"cartridge\", \"fat\", \"disappoint\", \"migraine\", \"loud\", \"great\", \"day\", \"work\", \"well\", \"stress\", \"place\", \"feeling\", \"staff\", \"med\", \"home\", \"knowledgeable\", \"cannabis\", \"thank\", \"giggly\", \"talk\", \"active\", \"edible\", \"professional\", \"variety\", \"deliver\", \"afternoon\", \"later\", \"atmosphere\", \"damn\", \"early\", \"happiness\", \"giggle\", \"earth\", \"welcome\", \"focused\", \"sweet\", \"flavor\", \"potent\", \"hard\", \"leave\", \"tasty\", \"pine\", \"fast\", \"guy\", \"expect\", \"mix\", \"deal\", \"tasting\", \"however\", \"berry\", \"vaporizer\", \"paranoid\", \"maybe\", \"must\", \"cookie\", \"true\", \"sativas\", \"stay\", \"exactly\", \"level\", \"spicy\", \"scent\", \"color\", \"cross\", \"fruit\", \"indica\", \"sativa\", \"relaxed\", \"say\", \"help\", \"couch\", \"hybrid\", \"beautiful\", \"blue\", \"lock\", \"dream\", \"tired\", \"reason\", \"dominant\", \"talkative\", \"appetite\", \"often\", \"knee\", \"blueberry\", \"uplift\", \"herb\", \"mean\", \"wrong\", \"biggie\", \"forget\", \"set\", \"late\", \"shatter\", \"ease\", \"major\", \"definitely\", \"take\", \"anxiety\", \"lot\", \"know\", \"buy\", \"trainwreck\", \"many\", \"quite\", \"gram\", \"able\", \"batch\", \"different\", \"use\", \"hold\", \"powerful\", \"social\", \"state\", \"wait\", \"couple\", \"fire\", \"drive\", \"wonder\", \"longer\", \"remember\", \"tolerance\", \"write\", \"provide\", \"manageable\", \"wind\", \"hit\", \"first\", \"little\", \"bit\", \"need\", \"back\", \"light\", \"friendly\", \"product\", \"pungent\", \"fun\", \"concentrate\", \"relieve\", \"vape\", \"deep\", \"form\", \"slight\", \"huge\", \"face\", \"lift\", \"part\", \"tingly\", \"personally\", \"numb\", \"begin\", \"boost\", \"smile\", \"eighth\", \"delivery\", \"family\", \"bud\", \"flower\", \"quality\", \"purple\", \"aroma\", \"excellent\", \"dry\", \"fruity\", \"wonderful\", \"orange\", \"visit\", \"quick\", \"burn\", \"mouth\", \"hair\", \"delicious\", \"medicine\", \"crystal\", \"enjoyable\", \"evening\", \"care\", \"month\", \"blow\", \"cover\", \"grape\", \"trichome\", \"one\", \"balanced\", \"citrusy\", \"pineapple\", \"love\", \"effect\", \"always\", \"never\", \"energy\", \"enough\", \"morning\", \"today\", \"kick\", \"fuck\", \"life\", \"train\", \"watch\", \"harsh\", \"medical\", \"lazy\", \"bag\", \"trip\", \"inhale\", \"spot\", \"roll\", \"list\", \"point\", \"hell\", \"prefer\", \"wave\", \"wake\", \"wake_bake\", \"uplifted\", \"negative\", \"buzz\", \"recommend\", \"friend\", \"mellow\", \"enjoy\", \"start\", \"diesel\", \"big\", \"absolutely\", \"kind\", \"anything\", \"highly\", \"better\", \"fantastic\", \"fan\", \"music\", \"fine\", \"become\", \"listen\", \"tingle\", \"lay\", \"turn\", \"finally\", \"lose\", \"around\", \"other\", \"hope\", \"candy\", \"marijuana\", \"hear\", \"pain\", \"smoking\", \"perfect\", \"put\", \"focus\", \"relief\", \"dispensary\", \"service\", \"seem\", \"mood\", \"ass\", \"actually\", \"skunk\", \"free\", \"customer\", \"suffer\", \"treat\", \"chronic\", \"already\", \"cloud\", \"easily\", \"mid\", \"content\", \"alert\", \"base\", \"appreciate\", \"cheap\", \"particular\", \"management\", \"local\", \"mind\", \"experience\", \"bad\", \"depression\", \"shit\", \"overall\", \"easy\", \"selection\", \"not\", \"helpful\", \"insomnia\", \"call\", \"second\", \"cheese\", \"headache\", \"dab\", \"be\", \"crazy\", \"have\", \"pass\", \"job\", \"totally\", \"close\", \"eat\", \"decide\", \"large\", \"everyone\", \"bomb\", \"store\", \"ok\", \"awesome\", \"come\", \"kush\", \"thc\", \"real\", \"pick\", \"daytime\", \"yet\", \"year\", \"extremely\", \"location\", \"grow\", \"decent\", \"unique\", \"low\", \"tell\", \"special\", \"combination\", \"whole\", \"walk\", \"jack\", \"daily\", \"favourite\", \"average\", \"school\", \"fact\", \"seed\", \"strand\", \"bubba\", \"rating\", \"find\", \"weed\", \"sour\", \"minute\", \"stone\", \"clean\", \"sticky\", \"paranoia\", \"quickly\", \"leaf\", \"sit\", \"thought\", \"full\", \"rip\", \"completely\", \"tender\", \"open\", \"instant\", \"move\", \"problem\", \"mostly\", \"short\", \"alone\", \"sometimes\", \"truly\", \"incredibly\", \"immediate\", \"activity\", \"grade\", \"room\", \"super\", \"look\", \"earthy\", \"green\", \"see\", \"review\", \"let\", \"small\", \"probably\", \"dark\", \"fresh\", \"lovely\", \"hint\", \"break\", \"cough\", \"blunt\", \"relaxing\", \"melt\", \"bright\", \"fluffy\", \"tree\", \"describe\", \"old\", \"def\", \"woody\", \"thick\", \"receive\", \"nugget\", \"throat\", \"front\", \"euphoric\", \"dense\", \"far\", \"nug\", \"price\", \"lemon\", \"best\", \"bring\", \"like\", \"half\", \"anyone\", \"heady\", \"patient\", \"vap\", \"pack\", \"plant\", \"brain\", \"oil\", \"follow\", \"punch\", \"frosty\", \"produce\", \"stand\", \"consume\", \"buddy\", \"headband\", \"allow\", \"rest\", \"slowly\", \"surprise\", \"chill\", \"name\", \"could\", \"everything\", \"nothing\", \"creeper\", \"kinda\", \"slow\", \"live\", \"shop\", \"crack\", \"ago\", \"area\", \"reviewer\", \"order\", \"piney_note\", \"syn\", \"min\", \"budtender\", \"white\", \"space\", \"calming\", \"else\", \"sense\", \"puff\", \"vibe\", \"interesting\", \"extreme\", \"hype\", \"disappointed\", \"calm\", \"haze\", \"house\", \"especially\", \"train_wreck\", \"run\", \"show\", \"movie\", \"hungry\", \"tho\", \"balance\", \"hitter\", \"recently\", \"subtle\", \"positive\", \"energize\", \"tha\", \"excited\", \"mango\", \"instead\", \"tend\", \"leafly\", \"fair\", \"medium\", \"word\", \"user\", \"s\", \"throw\", \"beauty\", \"idea\"], \"Total\": [89451.0, 60441.0, 54402.0, 63410.0, 33308.0, 28143.0, 29988.0, 22444.0, 37595.0, 25350.0, 19088.0, 31463.0, 18125.0, 23303.0, 16404.0, 15931.0, 16641.0, 16306.0, 24036.0, 23378.0, 13519.0, 13572.0, 12888.0, 15755.0, 13405.0, 12776.0, 10604.0, 9325.0, 10590.0, 9757.0, 89451.1640625, 37595.48828125, 31463.2109375, 24036.50390625, 23378.279296875, 16098.96484375, 14371.4951171875, 13447.427734375, 10738.97265625, 8960.1787109375, 7511.4609375, 7474.74755859375, 6731.203125, 6316.2158203125, 5846.912109375, 5429.29443359375, 5307.17138671875, 4943.83740234375, 4947.7275390625, 4866.60595703125, 4557.90380859375, 4168.95703125, 4095.992919921875, 3646.01123046875, 3511.182861328125, 3096.93505859375, 3026.250732421875, 2859.661865234375, 2696.379638671875, 2669.743408203125, 63410.40625, 29988.69140625, 23303.294921875, 15755.646484375, 12575.61328125, 11100.955078125, 9192.78125, 8507.861328125, 7787.7861328125, 7104.0341796875, 5835.53955078125, 4743.30126953125, 4300.72265625, 3808.537841796875, 3149.93798828125, 3103.589111328125, 1901.1380615234375, 1591.1005859375, 1373.127197265625, 991.355712890625, 920.8728637695312, 904.8724975585938, 869.7735595703125, 854.306640625, 784.188720703125, 780.2645263671875, 758.7318725585938, 685.982421875, 552.5131225585938, 496.4976806640625, 60441.16796875, 25350.205078125, 13405.2060546875, 12776.6181640625, 11011.4638671875, 7994.16015625, 7682.80908203125, 7488.30810546875, 2655.883056640625, 1787.3470458984375, 1319.2117919921875, 1311.3670654296875, 1222.61279296875, 1168.15869140625, 1113.678466796875, 1082.337646484375, 862.276123046875, 858.2677001953125, 692.7543334960938, 637.9116821289062, 618.9913330078125, 603.6608276367188, 597.1837158203125, 554.1142578125, 513.6712646484375, 498.581298828125, 442.9569091796875, 402.0386962890625, 398.6230773925781, 395.2916259765625, 33308.3046875, 28143.25, 16306.541015625, 8117.90771484375, 6885.85400390625, 4547.57958984375, 3405.11083984375, 2717.367431640625, 2672.68115234375, 2402.65869140625, 2339.54443359375, 2253.286865234375, 1998.8140869140625, 1822.11572265625, 1728.7794189453125, 1634.892822265625, 1576.5277099609375, 1547.889892578125, 1498.914794921875, 1275.9739990234375, 1255.8590087890625, 1038.363037109375, 953.033203125, 823.924072265625, 820.8372802734375, 813.4949340820312, 786.3064575195312, 772.4419555664062, 747.3111572265625, 731.7911987304688, 54402.9296875, 16641.8125, 7558.9404296875, 7035.2236328125, 6800.24365234375, 6131.1123046875, 4952.125, 4721.52099609375, 4463.4072265625, 2387.123291015625, 2339.66064453125, 2153.861572265625, 1793.246826171875, 1458.16650390625, 1382.73974609375, 1188.107421875, 1130.532958984375, 963.1676025390625, 934.2017822265625, 896.7146606445312, 876.7041625976562, 871.8861694335938, 852.068603515625, 845.0100708007812, 759.8268432617188, 749.0690307617188, 728.95556640625, 728.1116943359375, 708.1907958984375, 701.3153076171875, 10590.3544921875, 10143.013671875, 6834.02294921875, 6250.37060546875, 4093.922119140625, 3188.311767578125, 2895.9755859375, 2871.103515625, 2744.3916015625, 2576.45751953125, 2507.502685546875, 2384.843505859375, 2233.692138671875, 2036.728515625, 2031.935791015625, 1806.916259765625, 1708.7200927734375, 1548.851806640625, 1476.3497314453125, 1429.9677734375, 1410.0301513671875, 1396.8297119140625, 1387.1097412109375, 1355.3701171875, 1341.8609619140625, 1334.1275634765625, 1269.24853515625, 1250.2325439453125, 1194.7928466796875, 1037.4046630859375, 15931.9052734375, 12888.8779296875, 9729.2001953125, 9334.76171875, 8754.4921875, 6128.12255859375, 5889.77099609375, 4608.568359375, 4369.2255859375, 3908.264892578125, 2758.116943359375, 2645.74609375, 2380.62841796875, 2151.76416015625, 2014.146728515625, 2000.6309814453125, 1866.643798828125, 1551.710693359375, 1468.5177001953125, 1438.64111328125, 1180.8935546875, 1151.1400146484375, 1109.7413330078125, 1081.9486083984375, 957.767578125, 957.3534545898438, 954.9390258789062, 944.5643920898438, 758.3599853515625, 715.1233520507812, 10604.26171875, 10129.9375, 8472.900390625, 8031.9287109375, 6792.35595703125, 5081.8427734375, 4881.11669921875, 3158.57421875, 2879.40673828125, 2516.73779296875, 2347.12646484375, 2314.06298828125, 2266.649169921875, 2244.200439453125, 2206.4609375, 1929.51513671875, 1910.93359375, 1849.0758056640625, 1809.6712646484375, 1710.884033203125, 1677.637939453125, 1613.65869140625, 1579.5887451171875, 1445.5074462890625, 1367.6866455078125, 1261.569580078125, 1227.216796875, 1198.085693359375, 1167.2591552734375, 1142.113037109375, 18125.923828125, 13572.8515625, 9506.03125, 6660.7919921875, 6564.498046875, 6063.4765625, 4216.8642578125, 3632.88525390625, 3379.0693359375, 2822.369140625, 2659.62109375, 2505.4462890625, 2231.71337890625, 2043.648681640625, 1791.756103515625, 1739.7388916015625, 1448.4603271484375, 1416.97998046875, 1190.24658203125, 1053.34033203125, 937.9801025390625, 888.876220703125, 844.9923095703125, 840.253173828125, 723.9058227539062, 654.2006225585938, 643.7603759765625, 635.2166748046875, 618.8237915039062, 615.290283203125, 22444.517578125, 6798.7890625, 5853.4248046875, 3917.181396484375, 3808.2373046875, 3536.781005859375, 3415.5888671875, 3128.678955078125, 2857.95263671875, 2610.6904296875, 2406.097900390625, 2378.4658203125, 2359.1435546875, 2359.595703125, 2048.617919921875, 1886.806640625, 1822.617431640625, 1643.1463623046875, 1516.6492919921875, 1476.327880859375, 1270.827880859375, 1186.5543212890625, 1172.074462890625, 1103.2100830078125, 1094.315185546875, 1088.3441162109375, 981.6268310546875, 898.950927734375, 834.955322265625, 808.4359130859375, 19088.216796875, 13519.3623046875, 6519.00927734375, 4347.63818359375, 4145.54638671875, 2719.14306640625, 2390.080078125, 2381.366943359375, 2197.03564453125, 2100.609619140625, 1951.3302001953125, 1939.940673828125, 1914.6705322265625, 1864.2806396484375, 1822.5909423828125, 1571.8421630859375, 1399.8560791015625, 1370.058349609375, 1167.900390625, 1096.8865966796875, 1075.5078125, 1018.1311645507812, 974.9144287109375, 974.62548828125, 965.3317260742188, 921.3260498046875, 835.6461791992188, 800.3574829101562, 789.7294311523438, 740.5619506835938, 9757.6376953125, 6703.0439453125, 6644.47998046875, 6183.0146484375, 5765.74658203125, 5201.908203125, 4643.05126953125, 3815.95263671875, 3338.177490234375, 2759.40869140625, 2601.87744140625, 2352.59521484375, 2308.29736328125, 2267.91357421875, 2050.255859375, 1785.14697265625, 1756.1031494140625, 1387.708984375, 1112.9849853515625, 1101.2513427734375, 974.5966796875, 966.4327392578125, 896.154296875, 827.4383544921875, 804.9014892578125, 765.36279296875, 759.1590576171875, 742.0426025390625, 734.2586669921875, 729.3079223632812, 16404.36328125, 5407.65771484375, 5352.78662109375, 4738.31005859375, 4691.32470703125, 4331.49365234375, 4038.354248046875, 3062.34521484375, 2748.56689453125, 2461.98828125, 2258.096435546875, 2003.3779296875, 1907.423583984375, 1751.920166015625, 1525.51123046875, 1289.033447265625, 1281.42626953125, 1172.9755859375, 1059.95263671875, 1036.1832275390625, 1023.5189819335938, 960.1367797851562, 806.5179443359375, 798.072509765625, 753.1224975585938, 647.604248046875, 630.8203735351562, 590.3948364257812, 562.9594116210938, 540.4655151367188, 5233.75830078125, 4651.49169921875, 4499.83349609375, 4312.08251953125, 4136.98681640625, 3744.5654296875, 3674.531005859375, 3318.410888671875, 2991.372802734375, 2573.033203125, 2303.525390625, 2215.17724609375, 2066.568603515625, 1967.5670166015625, 1864.3349609375, 1735.0638427734375, 1572.9625244140625, 1551.9188232421875, 1505.7607421875, 1364.42236328125, 1256.2972412109375, 1184.1787109375, 1112.1197509765625, 1093.81201171875, 1081.0189208984375, 963.9446411132812, 955.7648315429688, 900.7770385742188, 896.8818969726562, 893.4183959960938, 8462.1396484375, 5949.96533203125, 5874.7490234375, 4531.4345703125, 4173.62744140625, 3756.6142578125, 3299.86376953125, 3243.208984375, 2987.463623046875, 2860.20068359375, 2790.6494140625, 2751.73193359375, 2181.85107421875, 1959.7431640625, 1767.8460693359375, 1714.7139892578125, 1511.5697021484375, 1407.7130126953125, 1282.7537841796875, 1114.0364990234375, 1037.8873291015625, 1006.349609375, 1004.7139282226562, 956.6343383789062, 906.755859375, 688.8930053710938, 679.9556884765625, 673.593017578125, 652.9120483398438, 639.3175048828125, 8381.1083984375, 7187.11376953125, 5427.62158203125, 3843.80224609375, 3176.932861328125, 2926.20751953125, 2351.85400390625, 2094.720947265625, 2009.668212890625, 1946.5712890625, 1909.50732421875, 1812.2708740234375, 1780.2706298828125, 1763.1507568359375, 1492.1380615234375, 1428.123046875, 1361.8690185546875, 1357.423583984375, 1250.7637939453125, 1145.5391845703125, 1054.137939453125, 1048.1390380859375, 978.4758911132812, 959.0466918945312, 956.587646484375, 903.4488525390625, 836.0401000976562, 750.7403564453125, 696.46875, 645.5354614257812, 9325.1220703125, 6948.2568359375, 5508.6962890625, 4664.814453125, 4433.30859375, 3298.586669921875, 2588.896240234375, 2005.0972900390625, 1968.57421875, 1843.20947265625, 1799.1473388671875, 1712.4786376953125, 1651.61181640625, 1587.2294921875, 1552.843017578125, 1363.7701416015625, 1353.252197265625, 1065.716552734375, 1008.3848876953125, 978.9400024414062, 952.4385375976562, 920.8348388671875, 914.45166015625, 777.3892822265625, 773.3154907226562, 650.1000366210938, 587.241943359375, 544.2742309570312, 532.083740234375, 511.57379150390625, 7310.25390625, 6196.6318359375, 6172.623046875, 4599.38720703125, 4451.85888671875, 2977.70166015625, 2502.570556640625, 2390.42822265625, 1924.845703125, 1852.7548828125, 1707.4620361328125, 1691.26416015625, 1587.2232666015625, 1546.635009765625, 1416.7012939453125, 1222.3924560546875, 1169.2301025390625, 1111.1058349609375, 1079.9288330078125, 1011.5980224609375, 918.6378784179688, 720.64208984375, 718.9000244140625, 605.302734375, 584.2503051757812, 570.8382568359375, 563.0512084960938, 558.3952026367188, 505.6217041015625, 444.3829650878906, 4980.97998046875, 4670.20458984375, 4512.6376953125, 3282.595458984375, 2958.652099609375, 2218.755126953125, 2058.201904296875, 1808.1507568359375, 1684.558349609375, 1604.5306396484375, 1413.5604248046875, 1344.1751708984375, 1284.2408447265625, 1254.810791015625, 1120.2891845703125, 1073.482666015625, 1071.93017578125, 1071.0631103515625, 1016.2626953125, 1008.015869140625, 952.673583984375, 917.5491943359375, 913.96435546875, 848.979736328125, 844.5516967773438, 827.6044921875, 748.9606323242188, 710.75537109375, 669.0458374023438, 624.0343627929688, 2741.06396484375, 2477.896728515625, 1460.315185546875, 1400.4423828125, 1226.9195556640625, 1218.3743896484375, 1089.7406005859375, 1047.2894287109375, 1030.935546875, 1013.944580078125, 993.4765625, 943.0256958007812, 868.7194213867188, 726.4149780273438, 692.6058349609375, 679.7709350585938, 646.4368896484375, 615.3303833007812, 603.1503295898438, 558.0591430664062, 543.5439453125, 542.0134887695312, 538.9793701171875, 534.8174438476562, 532.2237548828125, 518.5702514648438, 517.662353515625, 490.9007568359375, 423.3208312988281, 406.8128662109375], \"loglift\": [30.0, 29.0, 28.0, 27.0, 26.0, 25.0, 24.0, 23.0, 22.0, 21.0, 20.0, 19.0, 18.0, 17.0, 16.0, 15.0, 14.0, 13.0, 12.0, 11.0, 10.0, 9.0, 8.0, 7.0, 6.0, 5.0, 4.0, 3.0, 2.0, 1.0, 1.8487999439239502, 1.8487999439239502, 1.8487999439239502, 1.8487999439239502, 1.8487000465393066, 1.8487000465393066, 1.8487000465393066, 1.8487000465393066, 1.8487000465393066, 1.8487000465393066, 1.8487000465393066, 1.8487000465393066, 1.8486000299453735, 1.8486000299453735, 1.8486000299453735, 1.8486000299453735, 1.8486000299453735, 1.8486000299453735, 1.8486000299453735, 1.8486000299453735, 1.8486000299453735, 1.8486000299453735, 1.8486000299453735, 1.8485000133514404, 1.8485000133514404, 1.8485000133514404, 1.8485000133514404, 1.8485000133514404, 1.8483999967575073, 1.8483999967575073, 2.402600049972534, 2.402600049972534, 2.402600049972534, 2.4024999141693115, 2.4024999141693115, 2.4024999141693115, 2.4024999141693115, 2.4024999141693115, 2.4024999141693115, 2.4024999141693115, 2.402400016784668, 2.402400016784668, 2.402400016784668, 2.4022998809814453, 2.4022998809814453, 2.4022998809814453, 2.402100086212158, 2.4019999504089355, 2.401900053024292, 2.401599884033203, 2.4014999866485596, 2.4014999866485596, 2.4014999866485596, 2.4014999866485596, 2.401400089263916, 2.401400089263916, 2.4012999534606934, 2.40120005607605, 2.4007999897003174, 2.400599956512451, 2.7227001190185547, 2.7227001190185547, 2.722599983215332, 2.722599983215332, 2.722599983215332, 2.722599983215332, 2.722599983215332, 2.722599983215332, 2.7223000526428223, 2.7221999168395996, 2.7219998836517334, 2.7219998836517334, 2.72189998626709, 2.72189998626709, 2.7218000888824463, 2.7218000888824463, 2.72160005569458, 2.72160005569458, 2.721299886703491, 2.7211999893188477, 2.721100091934204, 2.721100091934204, 2.721100091934204, 2.720900058746338, 2.7207999229431152, 2.7207999229431152, 2.7204999923706055, 2.7202999591827393, 2.7202999591827393, 2.7202000617980957, 2.81030011177063, 2.81030011177063, 2.81030011177063, 2.8101999759674072, 2.8101999759674072, 2.8101000785827637, 2.8101000785827637, 2.809999942779541, 2.809999942779541, 2.809999942779541, 2.8099000453948975, 2.8099000453948975, 2.8099000453948975, 2.809799909591675, 2.809799909591675, 2.809799909591675, 2.8097000122070312, 2.8097000122070312, 2.8097000122070312, 2.8096001148223877, 2.8096001148223877, 2.8094000816345215, 2.809299945831299, 2.8092000484466553, 2.8092000484466553, 2.8092000484466553, 2.8090999126434326, 2.8090999126434326, 2.8090999126434326, 2.809000015258789, 2.8294999599456787, 2.8294999599456787, 2.829400062561035, 2.829400062561035, 2.829400062561035, 2.829400062561035, 2.829400062561035, 2.829400062561035, 2.8292999267578125, 2.829200029373169, 2.8290998935699463, 2.8290998935699463, 2.8289999961853027, 2.828900098800659, 2.828900098800659, 2.828700065612793, 2.828700065612793, 2.8285999298095703, 2.8285000324249268, 2.8285000324249268, 2.8285000324249268, 2.828399896621704, 2.828399896621704, 2.828399896621704, 2.8282999992370605, 2.8282999992370605, 2.828200101852417, 2.828200101852417, 2.828200101852417, 2.828200101852417, 3.0188000202178955, 3.0188000202178955, 3.0188000202178955, 3.0188000202178955, 3.018699884414673, 3.0185999870300293, 3.0185999870300293, 3.0185999870300293, 3.0185999870300293, 3.0185000896453857, 3.0185000896453857, 3.0185000896453857, 3.0185000896453857, 3.018399953842163, 3.018399953842163, 3.018399953842163, 3.0183000564575195, 3.0183000564575195, 3.018199920654297, 3.018199920654297, 3.018199920654297, 3.018199920654297, 3.018199920654297, 3.018199920654297, 3.018199920654297, 3.018199920654297, 3.0181000232696533, 3.0181000232696533, 3.0181000232696533, 3.0179998874664307, 3.061500072479248, 3.061500072479248, 3.061500072479248, 3.061500072479248, 3.061500072479248, 3.0613999366760254, 3.0613999366760254, 3.0613999366760254, 3.0613999366760254, 3.061300039291382, 3.061199903488159, 3.061199903488159, 3.061199903488159, 3.0611000061035156, 3.0611000061035156, 3.0611000061035156, 3.0611000061035156, 3.061000108718872, 3.0608999729156494, 3.0608999729156494, 3.060800075531006, 3.060699939727783, 3.060699939727783, 3.060699939727783, 3.0606000423431396, 3.0606000423431396, 3.0606000423431396, 3.0606000423431396, 3.06030011177063, 3.0601999759674072, 3.0676000118255615, 3.0676000118255615, 3.0676000118255615, 3.0676000118255615, 3.0676000118255615, 3.067500114440918, 3.067500114440918, 3.0673999786376953, 3.0673999786376953, 3.0673000812530518, 3.0673000812530518, 3.0673000812530518, 3.0673000812530518, 3.0673000812530518, 3.0673000812530518, 3.067199945449829, 3.067199945449829, 3.067199945449829, 3.067199945449829, 3.0671000480651855, 3.0671000480651855, 3.0671000480651855, 3.0671000480651855, 3.066999912261963, 3.066999912261963, 3.0669000148773193, 3.0669000148773193, 3.0669000148773193, 3.0669000148773193, 3.0669000148773193, 3.1024999618530273, 3.1024999618530273, 3.102400064468384, 3.102400064468384, 3.102400064468384, 3.102400064468384, 3.102299928665161, 3.102299928665161, 3.102299928665161, 3.1022000312805176, 3.1022000312805176, 3.1022000312805176, 3.102099895477295, 3.102099895477295, 3.1019999980926514, 3.1019999980926514, 3.101900100708008, 3.101900100708008, 3.1017000675201416, 3.101599931716919, 3.1015000343322754, 3.1013998985290527, 3.1013998985290527, 3.1013998985290527, 3.1012001037597656, 3.101099967956543, 3.1010000705718994, 3.1010000705718994, 3.1010000705718994, 3.1010000705718994, 3.1487998962402344, 3.148699998855591, 3.148699998855591, 3.1486001014709473, 3.1486001014709473, 3.1486001014709473, 3.1486001014709473, 3.1484999656677246, 3.1484999656677246, 3.1484999656677246, 3.1484999656677246, 3.1484999656677246, 3.148400068283081, 3.148400068283081, 3.148400068283081, 3.1482999324798584, 3.1482999324798584, 3.1482999324798584, 3.148200035095215, 3.148200035095215, 3.148099899291992, 3.1480000019073486, 3.1480000019073486, 3.1480000019073486, 3.1480000019073486, 3.1480000019073486, 3.147900104522705, 3.1477999687194824, 3.147700071334839, 3.147700071334839, 3.1875998973846436, 3.1875998973846436, 3.1875, 3.1875, 3.1875, 3.187299966812134, 3.187299966812134, 3.187299966812134, 3.1872000694274902, 3.1872000694274902, 3.1872000694274902, 3.1872000694274902, 3.1872000694274902, 3.1872000694274902, 3.1872000694274902, 3.1870999336242676, 3.187000036239624, 3.187000036239624, 3.1868999004364014, 3.186800003051758, 3.186800003051758, 3.1867001056671143, 3.1867001056671143, 3.1867001056671143, 3.1867001056671143, 3.1865999698638916, 3.186500072479248, 3.186500072479248, 3.186500072479248, 3.1863999366760254, 3.2439000606536865, 3.243799924850464, 3.243799924850464, 3.243799924850464, 3.243799924850464, 3.243799924850464, 3.243799924850464, 3.2437000274658203, 3.2437000274658203, 3.2435998916625977, 3.2435998916625977, 3.2435998916625977, 3.243499994277954, 3.243499994277954, 3.243499994277954, 3.2434000968933105, 3.2434000968933105, 3.243299961090088, 3.2430999279022217, 3.2430999279022217, 3.243000030517578, 3.243000030517578, 3.2428998947143555, 3.242799997329712, 3.242799997329712, 3.2427000999450684, 3.2427000999450684, 3.2427000999450684, 3.2425999641418457, 3.2425999641418457, 3.2632999420166016, 3.263200044631958, 3.263200044631958, 3.263200044631958, 3.263200044631958, 3.263200044631958, 3.2630999088287354, 3.2630999088287354, 3.263000011444092, 3.263000011444092, 3.263000011444092, 3.2629001140594482, 3.2629001140594482, 3.2627999782562256, 3.262700080871582, 3.2625999450683594, 3.2625999450683594, 3.2625999450683594, 3.262500047683716, 3.262399911880493, 3.262399911880493, 3.262399911880493, 3.262200117111206, 3.262200117111206, 3.2620999813079834, 3.261899948120117, 3.2618000507354736, 3.261699914932251, 3.261699914932251, 3.2616000175476074, 3.2720999717712402, 3.2720999717712402, 3.2720999717712402, 3.2720999717712402, 3.2720999717712402, 3.2720000743865967, 3.2720000743865967, 3.2720000743865967, 3.2720000743865967, 3.271899938583374, 3.271899938583374, 3.271899938583374, 3.2718000411987305, 3.2718000411987305, 3.2718000411987305, 3.271699905395508, 3.271699905395508, 3.271699905395508, 3.271699905395508, 3.2716000080108643, 3.2715001106262207, 3.2715001106262207, 3.271399974822998, 3.271399974822998, 3.271399974822998, 3.2713000774383545, 3.2713000774383545, 3.271199941635132, 3.271199941635132, 3.271199941635132, 3.284600019454956, 3.284600019454956, 3.284600019454956, 3.2844998836517334, 3.2844998836517334, 3.2844998836517334, 3.2844998836517334, 3.28439998626709, 3.28439998626709, 3.28439998626709, 3.28439998626709, 3.28439998626709, 3.2843000888824463, 3.2843000888824463, 3.2841999530792236, 3.2841999530792236, 3.28410005569458, 3.28410005569458, 3.2839999198913574, 3.283900022506714, 3.283799886703491, 3.283799886703491, 3.283799886703491, 3.2836999893188477, 3.2836999893188477, 3.2832999229431152, 3.2832999229431152, 3.2832999229431152, 3.2832999229431152, 3.2832000255584717, 3.3833999633789062, 3.3833999633789062, 3.3833999633789062, 3.3833000659942627, 3.38319993019104, 3.38319993019104, 3.3831000328063965, 3.3831000328063965, 3.3831000328063965, 3.382999897003174, 3.382999897003174, 3.382999897003174, 3.382999897003174, 3.382999897003174, 3.3828999996185303, 3.3828999996185303, 3.3828001022338867, 3.3828001022338867, 3.3828001022338867, 3.382699966430664, 3.3826000690460205, 3.3826000690460205, 3.3826000690460205, 3.382499933242798, 3.382499933242798, 3.382499933242798, 3.3824000358581543, 3.3822999000549316, 3.382200002670288, 3.381999969482422, 3.4316999912261963, 3.4316999912261963, 3.4316000938415527, 3.4316000938415527, 3.4316000938415527, 3.43149995803833, 3.4314000606536865, 3.431299924850464, 3.431299924850464, 3.431299924850464, 3.431299924850464, 3.4312000274658203, 3.4312000274658203, 3.4312000274658203, 3.4312000274658203, 3.4310998916625977, 3.4310998916625977, 3.4309000968933105, 3.430799961090088, 3.430799961090088, 3.430799961090088, 3.4307000637054443, 3.4307000637054443, 3.430500030517578, 3.430500030517578, 3.430299997329712, 3.4300999641418457, 3.430000066757202, 3.430000066757202, 3.4298999309539795, 3.5267999172210693, 3.5267999172210693, 3.5267999172210693, 3.526700019836426, 3.526700019836426, 3.526599884033203, 3.5264999866485596, 3.5264999866485596, 3.526400089263916, 3.526400089263916, 3.526400089263916, 3.526400089263916, 3.5262999534606934, 3.5262999534606934, 3.5262999534606934, 3.526099920272827, 3.526099920272827, 3.526099920272827, 3.5260000228881836, 3.5260000228881836, 3.525899887084961, 3.525599956512451, 3.525599956512451, 3.5253000259399414, 3.5253000259399414, 3.5251998901367188, 3.5251998901367188, 3.5251998901367188, 3.5250000953674316, 3.5248000621795654, 3.5671000480651855, 3.5671000480651855, 3.5671000480651855, 3.566999912261963, 3.566999912261963, 3.5669000148773193, 3.566800117492676, 3.566800117492676, 3.566699981689453, 3.566699981689453, 3.5666000843048096, 3.5666000843048096, 3.566499948501587, 3.566499948501587, 3.5664000511169434, 3.5664000511169434, 3.5664000511169434, 3.5664000511169434, 3.5662999153137207, 3.5662999153137207, 3.5662999153137207, 3.566200017929077, 3.566200017929077, 3.5660998821258545, 3.5660998821258545, 3.5660998821258545, 3.565999984741211, 3.5659000873565674, 3.5657999515533447, 3.565700054168701, 3.9446001052856445, 3.9446001052856445, 3.9442999362945557, 3.9442999362945557, 3.944200038909912, 3.944200038909912, 3.9440999031066895, 3.9440999031066895, 3.944000005722046, 3.944000005722046, 3.944000005722046, 3.9439001083374023, 3.9439001083374023, 3.9435999393463135, 3.9435999393463135, 3.9435999393463135, 3.94350004196167, 3.9433999061584473, 3.9433999061584473, 3.94320011138916, 3.94320011138916, 3.94320011138916, 3.94320011138916, 3.94320011138916, 3.94320011138916, 3.9430999755859375, 3.9430999755859375, 3.943000078201294, 3.942699909210205, 3.9426000118255615], \"logprob\": [30.0, 29.0, 28.0, 27.0, 26.0, 25.0, 24.0, 23.0, 22.0, 21.0, 20.0, 19.0, 18.0, 17.0, 16.0, 15.0, 14.0, 13.0, 12.0, 11.0, 10.0, 9.0, 8.0, 7.0, 6.0, 5.0, 4.0, 3.0, 2.0, 1.0, -1.6007000207901, -2.4674999713897705, -2.6456000804901123, -2.914900064468384, -2.9426000118255615, -3.315700054168701, -3.4291999340057373, -3.495699882507324, -3.720599889755249, -3.901700019836426, -4.078100204467773, -4.083000183105469, -4.18779993057251, -4.251399993896484, -4.32859992980957, -4.4028000831604, -4.42549991607666, -4.496500015258789, -4.495699882507324, -4.512199878692627, -4.577700138092041, -4.666999816894531, -4.684599876403809, -4.801000118255615, -4.838699817657471, -4.964300155639648, -4.987400054931641, -5.044000148773193, -5.102799892425537, -5.112800121307373, -1.3910000324249268, -2.1398000717163086, -2.3919999599456787, -2.7834999561309814, -3.0088999271392822, -3.1335999965667725, -3.3222999572753906, -3.3996999263763428, -3.4881999492645264, -3.5801000595092773, -3.7767999172210693, -3.984100103378296, -4.081999778747559, -4.20359992980957, -4.393499851226807, -4.408299922943115, -4.898600101470947, -5.0767998695373535, -5.2241997718811035, -5.550300121307373, -5.624100208282471, -5.641600131988525, -5.68120002746582, -5.69920015335083, -5.784900188446045, -5.789999961853027, -5.817999839782715, -5.918900012969971, -6.1356000900268555, -6.242700099945068, -1.1188000440597534, -1.9876999855041504, -2.6249001026153564, -2.6728999614715576, -2.8215999603271484, -3.141900062561035, -3.1816000938415527, -3.2072999477386475, -4.244100093841553, -4.6402997970581055, -4.944200038909912, -4.950200080871582, -5.020299911499023, -5.065899848937988, -5.113699913024902, -5.142300128936768, -5.369800090789795, -5.374499797821045, -5.589000225067139, -5.671599864959717, -5.701700210571289, -5.726799964904785, -5.737599849700928, -5.812600135803223, -5.888500213623047, -5.918399810791016, -6.0370001792907715, -6.134099960327148, -6.1427001953125, -6.151100158691406, -1.6270999908447266, -1.7956000566482544, -2.3413000106811523, -3.0388998985290527, -3.2035000324249268, -3.618499994277954, -3.9077999591827393, -4.133500099182129, -4.150100231170654, -4.256700038909912, -4.283299922943115, -4.320899963378906, -4.440800189971924, -4.533400058746338, -4.585999965667725, -4.6417999267578125, -4.678199768066406, -4.696599960327148, -4.728700160980225, -4.889900207519531, -4.905799865722656, -5.096099853515625, -5.182000160217285, -5.327700138092041, -5.331399917602539, -5.340400218963623, -5.374499797821045, -5.392300128936768, -5.4253997802734375, -5.446400165557861, -1.1172000169754028, -2.301800012588501, -3.0910000801086426, -3.1628000736236572, -3.1967999935150146, -3.3004000186920166, -3.5139999389648438, -3.5617001056671143, -3.6178998947143555, -4.243899822235107, -4.263999938964844, -4.346799850463867, -4.530099868774414, -4.737100124359131, -4.790299892425537, -4.9421000480651855, -4.991799831390381, -5.152200222015381, -5.182700157165527, -5.223700046539307, -5.246300220489502, -5.251800060272217, -5.274899959564209, -5.283199787139893, -5.389599800109863, -5.403800010681152, -5.431099891662598, -5.432300090789795, -5.460000038146973, -5.469799995422363, -2.5643999576568604, -2.607599973678589, -3.002500057220459, -3.0917999744415283, -3.515000104904175, -3.7651000022888184, -3.861299991607666, -3.8698999881744385, -3.91510009765625, -3.9781999588012695, -4.00540018081665, -4.055600166320801, -4.121099948883057, -4.213399887084961, -4.215799808502197, -4.333199977874756, -4.389100074768066, -4.487400054931641, -4.535399913787842, -4.567299842834473, -4.581399917602539, -4.590799808502197, -4.597799777984619, -4.6209001541137695, -4.630899906158447, -4.63670015335083, -4.686600208282471, -4.701700210571289, -4.747099876403809, -4.888500213623047, -2.113300085067749, -2.3252999782562256, -2.606600046157837, -2.6480000019073486, -2.712100028991699, -3.0689001083374023, -3.1085000038146973, -3.3538999557495117, -3.4072000980377197, -3.5188000202178955, -3.8673999309539795, -3.9089999198913574, -4.014599800109863, -4.115799903869629, -4.1819000244140625, -4.188600063323975, -4.257999897003174, -4.44290018081665, -4.498000144958496, -4.518599987030029, -4.716100215911865, -4.741700172424316, -4.778299808502197, -4.803699970245361, -4.92579984664917, -4.926199913024902, -4.928699970245361, -4.939700126647949, -5.1595001220703125, -5.218299865722656, -2.5143001079559326, -2.5601000785827637, -2.7386999130249023, -2.7922000885009766, -2.9598000049591064, -3.25, -3.290299892425537, -3.7256999015808105, -3.81820011138916, -3.952899932861328, -4.02269983291626, -4.036900043487549, -4.057600021362305, -4.067599773406982, -4.084499835968018, -4.218699932098389, -4.228400230407715, -4.261300086975098, -4.282899856567383, -4.339000225067139, -4.358699798583984, -4.397600173950195, -4.418900012969971, -4.507699966430664, -4.5630998611450195, -4.643899917602539, -4.671500205993652, -4.6956000328063965, -4.721700191497803, -4.7434000968933105, -1.9434000253677368, -2.232599973678589, -2.5887999534606934, -2.9446001052856445, -2.9591000080108643, -3.0385000705718994, -3.4017999172210693, -3.5508999824523926, -3.623300075531006, -3.8034000396728516, -3.862799882888794, -3.922600030899048, -4.038300037384033, -4.126399993896484, -4.257999897003174, -4.287499904632568, -4.470799922943115, -4.492800235748291, -4.667300224304199, -4.789599895477295, -4.905700206756592, -4.959499835968018, -5.010200023651123, -5.015900135040283, -5.16510009765625, -5.266499996185303, -5.282599925994873, -5.296000003814697, -5.322199821472168, -5.327899932861328, -1.6833000183105469, -2.877700090408325, -3.0274999141693115, -3.4291999340057373, -3.45740008354187, -3.531399965286255, -3.5662999153137207, -3.6540000438690186, -3.7446000576019287, -3.835099935531616, -3.9166998863220215, -3.928299903869629, -3.9363999366760254, -3.936300039291382, -4.077600002288818, -4.159999847412109, -4.1946001052856445, -4.298299789428711, -4.378499984741211, -4.405399799346924, -4.5553998947143555, -4.624100208282471, -4.63640022277832, -4.697000026702881, -4.705100059509277, -4.710599899291992, -4.813899993896484, -4.901899814605713, -4.975900173187256, -5.008200168609619, -1.80649995803833, -2.151400089263916, -2.8808999061584473, -3.286099910736084, -3.333699941635132, -3.755500078201294, -3.8845999240875244, -3.888200044631958, -3.9688000679016113, -4.013700008392334, -4.087500095367432, -4.093299865722656, -4.106500148773193, -4.1331000328063965, -4.155799865722656, -4.303899765014648, -4.4197998046875, -4.441400051116943, -4.601099967956543, -4.663899898529053, -4.683599948883057, -4.738500118255615, -4.781899929046631, -4.782199859619141, -4.791800022125244, -4.838500022888184, -4.936200141906738, -4.979400157928467, -4.992800235748291, -5.057199954986572, -2.421299934387207, -2.796799898147583, -2.8055999279022217, -2.8775999546051025, -2.947499990463257, -3.0504000186920166, -3.164099931716919, -3.360300064086914, -3.4941000938415527, -3.6846001148223877, -3.7434000968933105, -3.844099998474121, -3.863100051879883, -3.8808000087738037, -3.9816999435424805, -4.120299816131592, -4.13670015335083, -4.372300148010254, -4.593100070953369, -4.603700160980225, -4.72599983215332, -4.734399795532227, -4.809999942779541, -4.889800071716309, -4.917500019073486, -4.967899799346924, -4.97599983215332, -4.998899936676025, -5.009399890899658, -5.016200065612793, -1.8823000192642212, -2.9921998977661133, -3.0023999214172363, -3.124300003051758, -3.1342999935150146, -3.214099884033203, -3.2841999530792236, -3.5608999729156494, -3.669100046157837, -3.7792000770568848, -3.8657000064849854, -3.9855000972747803, -4.034599781036377, -4.11959981918335, -4.2581000328063965, -4.426700115203857, -4.432600021362305, -4.521100044250488, -4.622499942779541, -4.645199775695801, -4.65749979019165, -4.721499919891357, -4.895999908447266, -4.906599998474121, -4.964600086212158, -5.115799903869629, -5.142099857330322, -5.208399772644043, -5.256100177764893, -5.296899795532227, -3.015899896621704, -3.1338999271392822, -3.167099952697754, -3.209700107574463, -3.251199960708618, -3.350800037384033, -3.3696999549865723, -3.4716999530792236, -3.575500011444092, -3.7262001037597656, -3.836899995803833, -3.875999927520752, -3.945499897003174, -3.9946000576019287, -4.048500061035156, -4.1203999519348145, -4.218500137329102, -4.23199987411499, -4.262199878692627, -4.360899925231934, -4.44350004196167, -4.502699851989746, -4.565499782562256, -4.582099914550781, -4.593900203704834, -4.708600044250488, -4.717100143432617, -4.776500225067139, -4.780799865722656, -4.7846999168396, -2.5230000019073486, -2.875200033187866, -2.8879001140594482, -3.147599935531616, -3.2298998832702637, -3.335200071334839, -3.464900016784668, -3.4821999073028564, -3.564300060272217, -3.6078999042510986, -3.632499933242798, -3.6466000080108643, -3.878700017929077, -3.9860999584198, -4.089200019836426, -4.119800090789795, -4.2459001541137695, -4.317200183868408, -4.410200119018555, -4.551300048828125, -4.622200012207031, -4.65310001373291, -4.654699802398682, -4.703800201416016, -4.757400035858154, -5.03249979019165, -5.045599937438965, -5.054999828338623, -5.08620023727417, -5.1072998046875, -2.433799982070923, -2.5875000953674316, -2.868299961090088, -3.213399887084961, -3.4040000438690186, -3.486299991607666, -3.704900026321411, -3.82069993019104, -3.8622000217437744, -3.8940999507904053, -3.913300037384033, -3.96560001373291, -3.9834001064300537, -3.9930999279022217, -4.160099983215332, -4.203999996185303, -4.251500129699707, -4.254799842834473, -4.336699962615967, -4.424600124359131, -4.507800102233887, -4.513599872589111, -4.582399845123291, -4.602499961853027, -4.605000019073486, -4.662300109863281, -4.7399001121521, -4.847599983215332, -4.922800064086914, -4.998799800872803, -2.2788000106811523, -2.572999954223633, -2.8052000999450684, -2.97160005569458, -3.0225000381469727, -3.31820011138916, -3.560499906539917, -3.816200017929077, -3.8345999717712402, -3.900399923324585, -3.9245998859405518, -3.9739999771118164, -4.010200023651123, -4.050000190734863, -4.071899890899658, -4.201900005340576, -4.20959997177124, -4.448699951171875, -4.504000186920166, -4.533699989318848, -4.561100006103516, -4.594900131225586, -4.601900100708008, -4.764500141143799, -4.769700050354004, -4.94350004196167, -5.045400142669678, -5.121500015258789, -5.144199848175049, -5.183599948883057, -2.4270999431610107, -2.592400074005127, -2.596299886703491, -2.890500068664551, -2.923099994659424, -3.3254001140594482, -3.499300003051758, -3.5452001094818115, -3.761899948120117, -3.800100088119507, -3.8817999362945557, -3.8912999629974365, -3.954900026321411, -3.980799913406372, -4.068600177764893, -4.21619987487793, -4.260700225830078, -4.311800003051758, -4.3403000831604, -4.405700206756592, -4.502200126647949, -4.745200157165527, -4.747600078582764, -4.919899940490723, -4.9552998542785645, -4.978600025177002, -4.992400169372559, -5.000699996948242, -5.100100040435791, -5.229499816894531, -2.7704999446868896, -2.83489990234375, -2.8691999912261963, -3.1875998973846436, -3.2915000915527344, -3.579400062561035, -3.6545000076293945, -3.78410005569458, -3.8550000190734863, -3.903700113296509, -4.0304999351501465, -4.0808000564575195, -4.126500129699707, -4.149700164794922, -4.263199806213379, -4.3059000968933105, -4.307300090789795, -4.308199882507324, -4.3607001304626465, -4.368899822235107, -4.4253997802734375, -4.4629998207092285, -4.466899871826172, -4.540800094604492, -4.546000003814697, -4.566299915313721, -4.666299819946289, -4.718699932098389, -4.779200077056885, -4.848999977111816, -2.9902000427246094, -3.091200113296509, -3.6201999187469482, -3.662100076675415, -3.7945001125335693, -3.801500082015991, -3.9131999015808105, -3.952899932861328, -3.9686999320983887, -3.985300064086914, -4.00570011138916, -4.0578999519348145, -4.140100002288818, -4.319200038909912, -4.3668999671936035, -4.3856000900268555, -4.435999870300293, -4.485400199890137, -4.50540018081665, -4.583199977874756, -4.609600067138672, -4.612500190734863, -4.618100166320801, -4.625899791717529, -4.63070011138916, -4.656799793243408, -4.6585001945495605, -4.711699962615967, -4.860099792480469, -4.900000095367432]}, \"token.table\": {\"Topic\": [8, 12, 2, 5, 16, 13, 5, 19, 13, 18, 1, 16, 13, 1, 11, 3, 8, 18, 12, 7, 13, 19, 10, 12, 13, 5, 15, 1, 15, 3, 9, 14, 11, 20, 10, 13, 8, 14, 7, 20, 12, 9, 6, 18, 12, 12, 7, 9, 10, 7, 7, 17, 2, 14, 4, 9, 4, 18, 17, 17, 18, 15, 10, 18, 19, 10, 8, 12, 14, 20, 19, 12, 5, 10, 4, 13, 14, 3, 19, 13, 4, 10, 16, 4, 14, 13, 6, 15, 15, 3, 16, 9, 18, 13, 2, 6, 2, 7, 3, 17, 19, 8, 10, 19, 14, 2, 19, 6, 10, 13, 14, 15, 5, 4, 17, 5, 15, 6, 15, 14, 9, 17, 8, 10, 5, 9, 18, 14, 17, 12, 8, 4, 19, 13, 2, 7, 7, 8, 10, 2, 5, 5, 17, 7, 13, 14, 14, 5, 11, 9, 19, 3, 1, 20, 11, 12, 10, 11, 20, 1, 18, 2, 10, 3, 14, 19, 6, 10, 20, 4, 6, 14, 19, 15, 1, 9, 15, 20, 4, 9, 12, 12, 18, 6, 4, 3, 1, 15, 2, 5, 12, 16, 12, 4, 8, 9, 6, 2, 10, 17, 13, 5, 18, 7, 9, 13, 17, 12, 9, 17, 18, 6, 10, 11, 3, 16, 9, 3, 1, 5, 5, 1, 1, 3, 3, 16, 8, 10, 5, 17, 15, 6, 10, 18, 4, 5, 2, 6, 11, 14, 20, 2, 14, 18, 18, 12, 4, 11, 7, 14, 7, 2, 12, 17, 9, 20, 8, 5, 12, 1, 20, 6, 9, 20, 7, 19, 20, 16, 16, 7, 11, 14, 16, 20, 2, 19, 15, 14, 1, 1, 11, 12, 19, 7, 8, 5, 15, 14, 3, 3, 7, 5, 2, 12, 11, 16, 20, 6, 18, 17, 6, 11, 9, 9, 18, 3, 11, 12, 3, 9, 19, 13, 15, 7, 3, 8, 17, 12, 8, 4, 11, 17, 15, 7, 2, 8, 13, 20, 8, 12, 6, 7, 5, 11, 3, 10, 20, 12, 17, 13, 4, 4, 19, 14, 16, 6, 10, 13, 11, 16, 10, 16, 20, 2, 12, 6, 19, 9, 11, 11, 1, 1, 2, 14, 2, 4, 19, 4, 18, 17, 9, 7, 3, 18, 14, 17, 10, 16, 3, 10, 19, 12, 14, 18, 13, 16, 6, 9, 13, 14, 18, 1, 13, 9, 15, 6, 10, 4, 19, 5, 18, 11, 20, 6, 8, 11, 2, 3, 18, 17, 16, 18, 9, 3, 5, 8, 19, 18, 9, 10, 13, 10, 10, 16, 8, 2, 15, 2, 15, 3, 7, 17, 20, 12, 1, 1, 7, 17, 13, 9, 8, 3, 18, 17, 19, 1, 16, 11, 16, 20, 3, 20, 7, 6, 7, 6, 15, 14, 17, 15, 13, 14, 19, 13, 7, 7, 14, 19, 16, 20, 16, 13, 1, 1, 9, 4, 19, 18, 17, 4, 9, 1, 13, 4, 8, 4, 2, 2, 16, 2, 16, 19, 15, 6, 11, 5, 18, 4, 12, 8, 6, 3, 16, 1, 16, 2, 14, 4, 1, 15, 5, 4, 2, 20, 13, 17, 1, 18, 6, 19, 8, 5, 7, 4, 6, 6, 15, 20, 16, 20, 5, 15, 17, 1, 1, 20, 16, 17, 20, 1, 12, 9, 7, 11, 8, 1, 14, 11, 20, 8, 13, 17, 10, 11, 6, 16, 3, 12, 4, 15, 7, 11, 2, 8, 20, 4, 18, 9, 6, 5, 19, 10, 8, 11, 11, 15, 2, 1, 11, 11, 3, 16, 5, 5, 19, 15, 8, 3, 8, 10, 17, 20, 5, 4, 3, 2, 8, 7, 15, 15], \"Freq\": [0.9995200634002686, 0.9996472597122192, 0.9983793497085571, 0.9990679025650024, 0.9990138411521912, 0.9993122220039368, 0.9991968274116516, 0.9991257190704346, 0.998656153678894, 0.9981330037117004, 0.9998529553413391, 0.9995136260986328, 0.9991012215614319, 0.9998684525489807, 0.9998452067375183, 0.9999100565910339, 0.9998937249183655, 0.9991437196731567, 0.9996627569198608, 0.9996846318244934, 0.999066948890686, 0.9990338087081909, 0.9996750950813293, 0.9988800287246704, 0.9995144605636597, 0.998745858669281, 0.9993368983268738, 0.9997226595878601, 0.9998653531074524, 0.9985708594322205, 0.9999213814735413, 0.9998147487640381, 0.9993884563446045, 0.9995203018188477, 0.9989421963691711, 0.9985095262527466, 0.9995406270027161, 0.9993880987167358, 0.9998766779899597, 0.9968798160552979, 0.9994890689849854, 0.9987487196922302, 0.9995394349098206, 0.9997720122337341, 0.9994379281997681, 0.9997503757476807, 0.999123215675354, 0.9998810887336731, 0.9990832805633545, 0.999719500541687, 0.9996474385261536, 0.999435305595398, 0.9999589920043945, 0.9991373419761658, 0.9994967579841614, 0.9981647729873657, 0.9998725652694702, 0.9989479184150696, 0.999225378036499, 0.9986266493797302, 0.9994025230407715, 0.998603105545044, 0.9999769330024719, 0.9978599548339844, 0.9987574815750122, 0.9995152950286865, 0.9998341798782349, 0.9999346733093262, 0.9994685649871826, 0.9996118545532227, 0.9994014501571655, 0.9985949397087097, 0.9995999932289124, 0.999348521232605, 0.9993916153907776, 0.9986994862556458, 0.999711811542511, 0.9979891180992126, 0.9998032450675964, 0.9991682767868042, 0.9997451305389404, 0.9988558292388916, 0.99958735704422, 0.9995927214622498, 0.9989931583404541, 0.9988580942153931, 0.999014139175415, 0.9994934797286987, 0.9998377561569214, 0.9967324733734131, 0.9992372989654541, 0.9994227290153503, 0.9978477954864502, 0.9993578195571899, 0.9984705448150635, 0.9993232488632202, 0.9993082880973816, 0.9998168349266052, 0.9989110827445984, 0.9994571208953857, 0.9998586773872375, 0.9994832873344421, 0.9989030957221985, 0.9996035099029541, 0.999407947063446, 0.9998587965965271, 0.9996596574783325, 0.9993364214897156, 0.999302327632904, 0.9996649026870728, 0.9993868470191956, 0.9986588954925537, 0.9988046884536743, 0.9996737837791443, 0.9993438124656677, 0.999951183795929, 0.9997382164001465, 0.9996463060379028, 0.9996099472045898, 0.9990574717521667, 0.9995779991149902, 0.9982128739356995, 0.9998810291290283, 0.9995724558830261, 0.9992030262947083, 0.9986687898635864, 0.9998980164527893, 0.999748945236206, 0.9990934133529663, 0.9997735619544983, 0.9997135996818542, 0.9981332421302795, 0.9983424544334412, 0.9996646642684937, 0.9998319745063782, 0.9996448755264282, 0.999595046043396, 0.9995918273925781, 0.9998276233673096, 0.9990354180335999, 0.9989117980003357, 0.9984731674194336, 0.9998735785484314, 0.9982066750526428, 0.9994929432868958, 0.9998555183410645, 0.9992576241493225, 0.9995285868644714, 0.9998992085456848, 0.9980846047401428, 0.998944878578186, 0.9996675252914429, 0.9998016953468323, 0.9988659024238586, 0.9998682141304016, 0.9998705387115479, 0.9995719194412231, 0.9995796084403992, 0.9989700317382812, 0.9997215270996094, 0.9998284578323364, 0.9997256398200989, 0.9991005659103394, 0.9998252987861633, 0.9991997480392456, 0.9998186230659485, 0.9989891052246094, 0.9997791647911072, 0.9978379607200623, 0.9993897080421448, 0.9994342923164368, 0.9998943209648132, 0.9989372491836548, 0.9995802044868469, 0.999488353729248, 0.9989526867866516, 0.9987037181854248, 0.9981828927993774, 0.9989799857139587, 0.9979029893875122, 0.9993874430656433, 0.9995971918106079, 0.9998990893363953, 0.9996156692504883, 0.9983384609222412, 0.9980178475379944, 0.9999400973320007, 0.9992893934249878, 0.9999769330024719, 0.999772846698761, 0.9987119436264038, 0.9998677372932434, 0.9993718266487122, 0.9988784790039062, 0.999619722366333, 0.9999372363090515, 0.9999000430107117, 0.9985678791999817, 0.9998839497566223, 0.9990397691726685, 0.999717652797699, 0.9981245398521423, 0.9991399049758911, 0.9991985559463501, 0.9995752573013306, 0.9994747638702393, 0.9993622899055481, 0.9999277591705322, 0.9997563362121582, 0.9988783597946167, 0.9993056058883667, 0.9986459612846375, 0.9997829794883728, 0.9997097849845886, 0.9989053010940552, 0.9992862939834595, 0.99976646900177, 0.9986932277679443, 0.9999452829360962, 0.9986891150474548, 0.9992000460624695, 0.999893844127655, 0.9999094009399414, 0.9999806880950928, 0.9974164366722107, 0.9993269443511963, 0.9997068643569946, 0.9987981915473938, 0.9999828934669495, 0.9998254179954529, 0.9997339844703674, 0.9994929432868958, 0.9996984004974365, 0.9995925426483154, 0.9994288682937622, 0.998572826385498, 0.9999139904975891, 0.9997807145118713, 0.9993130564689636, 0.9994947910308838, 0.9996380805969238, 0.9999512434005737, 0.9992839694023132, 0.9985315203666687, 0.9992525577545166, 0.998206615447998, 0.9998759627342224, 0.9993582367897034, 0.9999437928199768, 0.9995984435081482, 0.9992433190345764, 0.9999778270721436, 0.9997469782829285, 0.999629557132721, 0.999949038028717, 0.9989123344421387, 0.999337911605835, 0.9995294213294983, 0.9984732270240784, 0.9998306035995483, 0.9990993738174438, 0.9996423125267029, 0.9993084073066711, 0.9990925192832947, 0.9998691082000732, 0.9984368085861206, 0.9980018734931946, 0.998755931854248, 0.9983963370323181, 0.999943196773529, 0.9992290735244751, 0.9997718930244446, 0.998951256275177, 0.998102068901062, 0.9998101592063904, 0.9987173676490784, 0.9991450905799866, 0.9989674091339111, 0.9995867013931274, 0.9997792840003967, 0.9995286464691162, 0.9994894862174988, 0.9994160532951355, 0.9995419979095459, 0.9998003840446472, 0.999717652797699, 0.9998725056648254, 0.9990200400352478, 0.9998946785926819, 0.9978397488594055, 0.9990166425704956, 0.99898362159729, 0.9994013905525208, 0.9993877410888672, 0.999464213848114, 0.999706506729126, 0.9981301426887512, 0.9997747540473938, 0.9997643828392029, 0.9996538162231445, 0.9993583559989929, 0.9993183016777039, 0.998727560043335, 0.9997950196266174, 0.9995606541633606, 0.9988340735435486, 0.9988889694213867, 0.999114990234375, 0.9987640976905823, 0.9998915195465088, 0.999668538570404, 0.9972884058952332, 0.9997673034667969, 0.9996763467788696, 0.9998548626899719, 0.999648928642273, 0.9998190999031067, 0.9982616901397705, 0.9998843669891357, 0.9989188313484192, 0.9999362826347351, 0.9997205138206482, 0.9995214343070984, 0.9984291195869446, 0.9999444484710693, 0.998921275138855, 0.998295783996582, 0.998092770576477, 0.9998182058334351, 0.9982857704162598, 0.9994500279426575, 0.9990096688270569, 0.9996846914291382, 0.9996757507324219, 0.9985200762748718, 0.9996612668037415, 0.9984715580940247, 0.9998359084129333, 0.9993276596069336, 0.9988160133361816, 0.9982454776763916, 0.9994251132011414, 0.9990074038505554, 0.999855101108551, 0.9997912645339966, 0.9997995495796204, 0.9995328187942505, 0.9995985627174377, 0.999548077583313, 0.9989205002784729, 0.9997475147247314, 0.9993893504142761, 0.9987688064575195, 0.9998987317085266, 0.9993574619293213, 0.9990857839584351, 0.9997420907020569, 0.9999241232872009, 0.9992411732673645, 0.9998531937599182, 0.99977046251297, 0.9999614953994751, 0.9999075531959534, 0.9995411038398743, 0.9989976286888123, 0.9986873269081116, 0.9997795820236206, 0.9989158511161804, 0.9996984004974365, 0.9976588487625122, 0.9985085725784302, 0.9996551275253296, 0.9990814328193665, 0.9990047216415405, 0.9984123706817627, 0.998412549495697, 0.9993614554405212, 0.9993618726730347, 0.9990081191062927, 0.9997355341911316, 0.9988492131233215, 0.9982194304466248, 0.9998490214347839, 0.9995049834251404, 0.9999169111251831, 0.9996558427810669, 0.999578595161438, 0.9989550709724426, 0.9976374506950378, 0.9989575147628784, 0.9992293119430542, 0.9996631145477295, 0.9998530149459839, 0.9988256692886353, 0.9998365044593811, 0.9996631145477295, 0.9982238411903381, 0.9994539022445679, 0.9995504021644592, 0.9998185634613037, 0.9988608956336975, 0.9990620613098145, 0.9991253018379211, 0.999850332736969, 0.999733030796051, 0.9986204504966736, 0.9990713000297546, 0.9998670816421509, 0.9998070597648621, 0.9997082948684692, 0.9995293021202087, 0.9991090297698975, 0.9996835589408875, 0.9989575147628784, 0.9987877607345581, 0.9990938305854797, 0.9993467330932617, 0.9994088411331177, 0.9995148777961731, 0.9996984004974365, 0.999723494052887, 0.9997565746307373, 0.9993836879730225, 0.9996675252914429, 0.9995114207267761, 0.999052107334137, 0.9979392290115356, 0.9986324906349182, 0.9998496770858765, 0.9999524354934692, 0.9997360110282898, 0.9978851079940796, 0.9991718530654907, 0.9998442530632019, 0.9999655485153198, 0.9997685551643372, 0.9998766183853149, 0.9990746974945068, 0.9998860359191895, 0.9996803402900696, 0.9994979500770569, 0.998522937297821, 0.9975014328956604, 0.9998221397399902, 0.99935382604599, 0.9998999834060669, 0.9993473291397095, 0.9995278120040894, 0.9991705417633057, 0.998871922492981, 0.9994987845420837, 0.9987204670906067, 0.9999318718910217, 0.9994059801101685, 0.9999184012413025, 0.9990163445472717, 0.9991664290428162, 0.9997248649597168, 0.9997048377990723, 0.9985944628715515, 0.9997937679290771, 0.9995748400688171, 0.9988459944725037, 0.9995607137680054, 0.9985862374305725, 0.9994024634361267, 0.9997614622116089, 0.9996693134307861, 0.9989132881164551, 0.999320387840271, 0.9997343420982361, 0.9992536902427673, 0.9998055100440979, 0.9996980428695679, 0.9989917874336243, 0.9993159770965576, 0.9993636012077332, 0.9987704157829285, 0.9994527697563171, 0.9999555945396423, 0.9988188743591309, 0.999987006187439, 0.9998783469200134, 0.9998881816864014, 0.9995114207267761, 0.999549150466919, 0.9990357756614685, 0.9997022151947021, 0.9989086389541626, 0.9991106390953064, 0.9998854994773865, 0.9992929697036743, 0.9996231198310852, 0.999154806137085, 0.9991917014122009, 0.9998896718025208, 0.9987480640411377, 0.999725878238678, 0.9998254179954529, 0.9994181990623474, 0.9991999864578247, 0.99839848279953, 0.9996368885040283, 0.9998212456703186, 0.9997063875198364, 0.9991791248321533, 0.9990167021751404, 0.9996652603149414, 0.999987006187439, 0.9991196393966675, 0.9998171329498291, 0.9999668002128601, 0.9998990297317505, 0.9980521202087402, 0.9991982579231262, 0.9998796582221985, 0.9997575879096985, 0.9968879222869873, 0.999872088432312, 0.9991322159767151, 0.9999074339866638, 0.9994649887084961, 0.9994306564331055, 0.9999608397483826, 0.9996901154518127, 0.9995885491371155, 0.9995836019515991, 0.9989992380142212, 0.9992136359214783, 0.9977772235870361, 0.9993047118186951, 0.9996834397315979, 0.9983078837394714, 0.9998754858970642, 0.9998440146446228, 0.9990684390068054, 0.9992987513542175, 0.9979631900787354, 0.9981650710105896, 0.9999790191650391, 0.998863697052002, 0.9990142583847046, 0.9997180104255676, 0.999426007270813, 0.9995484948158264, 0.9998075366020203, 0.999004602432251, 0.9995151162147522, 0.9992505311965942, 0.999771237373352, 0.9988869428634644, 0.9984896183013916, 0.9987649917602539, 0.9992275238037109, 0.999269425868988, 0.9993856549263, 0.9999516010284424, 0.9985175132751465, 0.9992366433143616, 0.999620795249939, 0.9995543360710144, 0.9990763664245605, 0.9998544454574585, 0.9994651079177856, 0.9989003539085388, 0.9997673034667969, 0.9995894432067871, 0.999682605266571, 0.9994929432868958, 0.9987135529518127, 0.9992696046829224, 0.9995437264442444, 0.9996290802955627, 0.9992267489433289, 0.9983038902282715, 0.9990695714950562, 0.9984841346740723, 0.9997615814208984, 0.9996497631072998, 0.9985607266426086, 0.9993907809257507, 0.999845027923584, 0.9983185529708862, 0.9998260736465454, 0.9989922046661377, 0.9994123578071594, 0.9990254640579224, 0.9984369277954102, 0.9996272921562195, 0.999666690826416, 0.9982988834381104, 0.9977006912231445, 0.9998756051063538, 0.9993876814842224, 0.99924635887146, 0.9999150037765503, 0.9990084767341614, 0.9993319511413574, 0.9995100498199463, 0.9996272325515747], \"Term\": [\"able\", \"absolutely\", \"ache\", \"active\", \"activity\", \"actually\", \"afternoon\", \"ago\", \"alert\", \"allow\", \"almost\", \"alone\", \"already\", \"also\", \"always\", \"amazing\", \"anxiety\", \"anyone\", \"anything\", \"appetite\", \"appreciate\", \"area\", \"aroma\", \"around\", \"ass\", \"atmosphere\", \"average\", \"away\", \"awesome\", \"baby\", \"back\", \"bad\", \"bag\", \"balance\", \"balanced\", \"base\", \"batch\", \"be\", \"beautiful\", \"beauty\", \"become\", \"begin\", \"berry\", \"best\", \"better\", \"big\", \"biggie\", \"bit\", \"blow\", \"blue\", \"blueberry\", \"blunt\", \"body\", \"bomb\", \"bong\", \"boost\", \"bowl\", \"brain\", \"break\", \"bright\", \"bring\", \"bubba\", \"bud\", \"buddy\", \"budtender\", \"burn\", \"buy\", \"buzz\", \"call\", \"calm\", \"calming\", \"candy\", \"cannabis\", \"care\", \"cartridge\", \"cheap\", \"cheese\", \"chemdawg\", \"chill\", \"chronic\", \"citrus\", \"citrusy\", \"clean\", \"clear\", \"close\", \"cloud\", \"color\", \"combination\", \"come\", \"common\", \"completely\", \"concentrate\", \"consume\", \"content\", \"conversation\", \"cookie\", \"cool\", \"couch\", \"couchlock\", \"cough\", \"could\", \"couple\", \"cover\", \"crack\", \"crazy\", \"creative\", \"creeper\", \"cross\", \"crystal\", \"customer\", \"dab\", \"daily\", \"damn\", \"dank\", \"dark\", \"day\", \"daytime\", \"deal\", \"decent\", \"decide\", \"deep\", \"def\", \"definitely\", \"delicious\", \"deliver\", \"delivery\", \"dense\", \"depression\", \"describe\", \"diesel\", \"different\", \"disappoint\", \"disappointed\", \"dispensary\", \"do\", \"dominant\", \"dream\", \"drive\", \"dry\", \"due\", \"early\", \"earth\", \"earthy\", \"ease\", \"easily\", \"easy\", \"eat\", \"edible\", \"effect\", \"eighth\", \"else\", \"end\", \"energetic\", \"energize\", \"energy\", \"enjoy\", \"enjoyable\", \"enough\", \"especially\", \"euphoria\", \"euphoric\", \"even\", \"evening\", \"ever\", \"everyone\", \"everything\", \"exactly\", \"excellent\", \"excited\", \"exhale\", \"expect\", \"experience\", \"extreme\", \"extremely\", \"eye\", \"face\", \"fact\", \"fair\", \"fairly\", \"family\", \"fan\", \"fantastic\", \"far\", \"fast\", \"fat\", \"fav\", \"favorite\", \"favourite\", \"feel\", \"feeling\", \"finally\", \"find\", \"fine\", \"finish\", \"fire\", \"first\", \"flavor\", \"float\", \"flower\", \"fluffy\", \"focus\", \"focused\", \"follow\", \"forget\", \"form\", \"free\", \"fresh\", \"friend\", \"friendly\", \"front\", \"frosty\", \"fruit\", \"fruity\", \"fuck\", \"fucking\", \"full\", \"fun\", \"gdp\", \"get\", \"giggle\", \"giggly\", \"give\", \"go\", \"good\", \"goodness\", \"grade\", \"gram\", \"grape\", \"great\", \"green\", \"grow\", \"guy\", \"hair\", \"half\", \"hand\", \"happiness\", \"happy\", \"hard\", \"harsh\", \"have\", \"haze\", \"head\", \"headache\", \"headband\", \"heady\", \"hear\", \"heavy\", \"hell\", \"help\", \"helpful\", \"herb\", \"high\", \"highly\", \"hint\", \"hit\", \"hitter\", \"hold\", \"home\", \"hope\", \"hour\", \"house\", \"however\", \"huge\", \"hungry\", \"hybrid\", \"hype\", \"idea\", \"immediate\", \"incredibly\", \"indica\", \"inhale\", \"insomnia\", \"instant\", \"instead\", \"intense\", \"interesting\", \"jack\", \"job\", \"joint\", \"keep\", \"kick\", \"kind\", \"kinda\", \"knee\", \"know\", \"knowledgeable\", \"kush\", \"large\", \"last\", \"lasting\", \"late\", \"later\", \"laugh\", \"lay\", \"lazy\", \"leaf\", \"leafly\", \"leave\", \"lemon\", \"let\", \"level\", \"life\", \"lift\", \"light\", \"like\", \"line\", \"list\", \"listen\", \"literally\", \"little\", \"live\", \"local\", \"location\", \"lock\", \"long\", \"longer\", \"look\", \"lose\", \"lot\", \"loud\", \"love\", \"lovely\", \"low\", \"major\", \"make\", \"manageable\", \"management\", \"mango\", \"many\", \"marijuana\", \"maybe\", \"mean\", \"med\", \"medical\", \"medicate\", \"medicine\", \"medium\", \"mellow\", \"melt\", \"mid\", \"migraine\", \"mild\", \"min\", \"mind\", \"minute\", \"mix\", \"month\", \"mood\", \"morning\", \"mostly\", \"mouth\", \"move\", \"movie\", \"much\", \"music\", \"must\", \"name\", \"need\", \"negative\", \"never\", \"new\", \"nice\", \"night\", \"not\", \"notch\", \"note\", \"nothing\", \"notice\", \"nug\", \"nugget\", \"numb\", \"often\", \"og\", \"oil\", \"ok\", \"old\", \"one\", \"open\", \"opinion\", \"orange\", \"order\", \"other\", \"overall\", \"pack\", \"pain\", \"paranoia\", \"paranoid\", \"part\", \"particular\", \"pass\", \"patient\", \"people\", \"perfect\", \"personally\", \"pick\", \"pine\", \"pineapple\", \"piney\", \"piney_note\", \"place\", \"plant\", \"point\", \"positive\", \"potent\", \"powerful\", \"prefer\", \"prepare\", \"pretty\", \"price\", \"probably\", \"problem\", \"produce\", \"product\", \"productive\", \"professional\", \"provide\", \"puff\", \"punch\", \"pungent\", \"purple\", \"put\", \"quality\", \"quick\", \"quickly\", \"quite\", \"rather\", \"rating\", \"ready\", \"real\", \"really\", \"reason\", \"receive\", \"recently\", \"recommend\", \"relax\", \"relaxation\", \"relaxed\", \"relaxing\", \"relief\", \"relieve\", \"remember\", \"remind\", \"rest\", \"review\", \"reviewer\", \"right\", \"rip\", \"roll\", \"room\", \"run\", \"rush\", \"s\", \"sativa\", \"sativas\", \"say\", \"scent\", \"school\", \"second\", \"see\", \"seed\", \"seem\", \"selection\", \"sense\", \"service\", \"set\", \"shatter\", \"shit\", \"shop\", \"short\", \"show\", \"sit\", \"skunk\", \"sleep\", \"sleepy\", \"slight\", \"slightly\", \"slow\", \"slowly\", \"small\", \"smell\", \"smile\", \"smoke\", \"smoking\", \"smooth\", \"social\", \"solid\", \"someone\", \"something\", \"sometimes\", \"somewhat\", \"sour\", \"space\", \"special\", \"spicy\", \"spot\", \"staff\", \"stand\", \"star\", \"start\", \"state\", \"stay\", \"stick\", \"sticky\", \"still\", \"stone\", \"stop\", \"store\", \"straight\", \"strain\", \"strand\", \"stress\", \"strong\", \"stuff\", \"subtle\", \"suffer\", \"super\", \"sure\", \"surprise\", \"sweet\", \"syn\", \"take\", \"talk\", \"talkative\", \"taste\", \"tasting\", \"tasty\", \"tell\", \"tend\", \"tender\", \"tha\", \"thank\", \"thc\", \"thick\", \"thing\", \"think\", \"tho\", \"thought\", \"throat\", \"throw\", \"time\", \"tingle\", \"tingly\", \"tired\", \"today\", \"tolerance\", \"top\", \"totally\", \"train\", \"train_wreck\", \"trainwreck\", \"treat\", \"tree\", \"trichome\", \"trip\", \"true\", \"truly\", \"try\", \"turn\", \"type\", \"unique\", \"uplift\", \"uplifted\", \"uplifting\", \"use\", \"user\", \"usually\", \"vap\", \"vape\", \"vaporizer\", \"variety\", \"vibe\", \"visit\", \"wait\", \"wake\", \"wake_bake\", \"walk\", \"wanna\", \"want\", \"watch\", \"wave\", \"wax\", \"weed\", \"welcome\", \"well\", \"white\", \"whole\", \"wind\", \"wise\", \"wonder\", \"wonderful\", \"woody\", \"word\", \"work\", \"world\", \"worth\", \"would\", \"write\", \"wrong\", \"year\", \"yet\"]}, \"R\": 30, \"lambda.step\": 0.01, \"plot.opts\": {\"xlab\": \"PC1\", \"ylab\": \"PC2\"}, \"topic.order\": [16, 10, 4, 6, 17, 13, 1, 3, 8, 7, 5, 11, 20, 2, 19, 14, 15, 12, 18, 9]};\n",
       "\n",
       "function LDAvis_load_lib(url, callback){\n",
       "  var s = document.createElement('script');\n",
       "  s.src = url;\n",
       "  s.async = true;\n",
       "  s.onreadystatechange = s.onload = callback;\n",
       "  s.onerror = function(){console.warn(\"failed to load library \" + url);};\n",
       "  document.getElementsByTagName(\"head\")[0].appendChild(s);\n",
       "}\n",
       "\n",
       "if(typeof(LDAvis) !== \"undefined\"){\n",
       "   // already loaded: just create the visualization\n",
       "   !function(LDAvis){\n",
       "       new LDAvis(\"#\" + \"ldavis_el677331158461594803066600750\", ldavis_el677331158461594803066600750_data);\n",
       "   }(LDAvis);\n",
       "}else if(typeof define === \"function\" && define.amd){\n",
       "   // require.js is available: use it to load d3/LDAvis\n",
       "   require.config({paths: {d3: \"https://cdnjs.cloudflare.com/ajax/libs/d3/3.5.5/d3.min\"}});\n",
       "   require([\"d3\"], function(d3){\n",
       "      window.d3 = d3;\n",
       "      LDAvis_load_lib(\"https://cdn.rawgit.com/bmabey/pyLDAvis/files/ldavis.v1.0.0.js\", function(){\n",
       "        new LDAvis(\"#\" + \"ldavis_el677331158461594803066600750\", ldavis_el677331158461594803066600750_data);\n",
       "      });\n",
       "    });\n",
       "}else{\n",
       "    // require.js not available: dynamically load d3 & LDAvis\n",
       "    LDAvis_load_lib(\"https://cdnjs.cloudflare.com/ajax/libs/d3/3.5.5/d3.min.js\", function(){\n",
       "         LDAvis_load_lib(\"https://cdn.rawgit.com/bmabey/pyLDAvis/files/ldavis.v1.0.0.js\", function(){\n",
       "                 new LDAvis(\"#\" + \"ldavis_el677331158461594803066600750\", ldavis_el677331158461594803066600750_data);\n",
       "            })\n",
       "         });\n",
       "}\n",
       "</script>"
      ],
      "text/plain": [
       "PreparedData(topic_coordinates=              x         y  topics  cluster       Freq\n",
       "topic                                                \n",
       "15     0.398782  0.229462       1        1  15.742729\n",
       "9      0.167482 -0.409688       2        1   9.048282\n",
       "3      0.065289 -0.049004       3        1   6.569704\n",
       "5      0.034698 -0.020947       4        1   6.018362\n",
       "16     0.039518 -0.027098       5        1   5.903885\n",
       "12    -0.025630  0.021787       6        1   4.885470\n",
       "0      0.005682 -0.003735       7        1   4.681324\n",
       "2      0.014265 -0.004692       8        1   4.652740\n",
       "7     -0.019910  0.004801       9        1   4.493487\n",
       "6     -0.040554  0.024811      10        1   4.290108\n",
       "4     -0.045478  0.015129      11        1   4.126707\n",
       "10    -0.033690  0.008449      12        1   3.900895\n",
       "19    -0.044968  0.020440      13        1   3.825882\n",
       "1     -0.060470  0.022023      14        1   3.791928\n",
       "18    -0.062769  0.028544      15        1   3.745011\n",
       "13    -0.066387  0.027062      16        1   3.392706\n",
       "14    -0.073262  0.027851      17        1   3.232902\n",
       "11    -0.076927  0.022143      18        1   2.939485\n",
       "17    -0.074166  0.028224      19        1   2.823221\n",
       "8     -0.101505  0.034439      20        1   1.935169, topic_info=     Category          Freq         Term         Total  loglift  logprob\n",
       "term                                                                    \n",
       "11    Default  89451.000000       strain  89451.000000  30.0000  30.0000\n",
       "21    Default  60441.000000         good  60441.000000  29.0000  29.0000\n",
       "133   Default  54402.000000        great  54402.000000  28.0000  28.0000\n",
       "163   Default  63410.000000         high  63410.000000  27.0000  27.0000\n",
       "148   Default  33308.000000        taste  33308.000000  26.0000  26.0000\n",
       "267   Default  28143.000000        smell  28143.000000  25.0000  25.0000\n",
       "5     Default  29988.000000         feel  29988.000000  24.0000  24.0000\n",
       "28    Default  22444.000000          bud  22444.000000  23.0000  23.0000\n",
       "43    Default  37595.000000        smoke  37595.000000  22.0000  22.0000\n",
       "97    Default  25350.000000       really  25350.000000  21.0000  21.0000\n",
       "212   Default  19088.000000         love  19088.000000  20.0000  20.0000\n",
       "281   Default  31463.000000         nice  31463.000000  19.0000  19.0000\n",
       "184   Default  18125.000000          hit  18125.000000  18.0000  18.0000\n",
       "70    Default  23303.000000         make  23303.000000  17.0000  17.0000\n",
       "415   Default  16404.000000         pain  16404.000000  16.0000  16.0000\n",
       "175   Default  15931.000000       indica  15931.000000  15.0000  15.0000\n",
       "221   Default  16641.000000          day  16641.000000  14.0000  14.0000\n",
       "245   Default  16306.000000       strong  16306.000000  13.0000  13.0000\n",
       "124   Default  24036.000000         time  24036.000000  12.0000  12.0000\n",
       "89    Default  23378.000000          get  23378.000000  11.0000  11.0000\n",
       "151   Default  13519.000000       effect  13519.000000  10.0000  10.0000\n",
       "6     Default  13572.000000        first  13572.000000   9.0000   9.0000\n",
       "577   Default  12888.000000       sativa  12888.000000   8.0000   8.0000\n",
       "16    Default  15755.000000         body  15755.000000   7.0000   7.0000\n",
       "260   Default  13405.000000      amazing  13405.000000   6.0000   6.0000\n",
       "84    Default  12776.000000          try  12776.000000   5.0000   5.0000\n",
       "406   Default  10604.000000   definitely  10604.000000   4.0000   4.0000\n",
       "522   Default   9325.000000        super   9325.000000   3.0000   3.0000\n",
       "1052  Default  10590.000000        sweet  10590.000000   2.0000   2.0000\n",
       "136   Default   9757.000000         buzz   9757.000000   1.0000   1.0000\n",
       "...       ...           ...          ...           ...      ...      ...\n",
       "157   Topic20   2740.095459         calm   2741.063965   3.9446  -2.9902\n",
       "459   Topic20   2476.928223         haze   2477.896729   3.9446  -3.0912\n",
       "835   Topic20   1459.346680        house   1460.315186   3.9443  -3.6202\n",
       "422   Topic20   1399.473877   especially   1400.442383   3.9443  -3.6621\n",
       "4686  Topic20   1225.951050  train_wreck   1226.919556   3.9442  -3.7945\n",
       "565   Topic20   1217.405884          run   1218.374390   3.9442  -3.8015\n",
       "2718  Topic20   1088.772095         show   1089.740601   3.9441  -3.9132\n",
       "2126  Topic20   1046.320923        movie   1047.289429   3.9441  -3.9529\n",
       "1101  Topic20   1029.967041       hungry   1030.935547   3.9440  -3.9687\n",
       "1107  Topic20   1012.976074          tho   1013.944580   3.9440  -3.9853\n",
       "2371  Topic20    992.508057      balance    993.476562   3.9440  -4.0057\n",
       "560   Topic20    942.057190       hitter    943.025696   3.9439  -4.0579\n",
       "815   Topic20    867.750916     recently    868.719421   3.9439  -4.1401\n",
       "566   Topic20    725.446472       subtle    726.414978   3.9436  -4.3192\n",
       "1379  Topic20    691.637329     positive    692.605835   3.9436  -4.3669\n",
       "458   Topic20    678.802429     energize    679.770935   3.9436  -4.3856\n",
       "2863  Topic20    645.468384          tha    646.436890   3.9435  -4.4360\n",
       "1314  Topic20    614.361877      excited    615.330383   3.9434  -4.4854\n",
       "1453  Topic20    602.181824        mango    603.150330   3.9434  -4.5054\n",
       "2698  Topic20    557.090637      instead    558.059143   3.9432  -4.5832\n",
       "817   Topic20    542.575439         tend    543.543945   3.9432  -4.6096\n",
       "102   Topic20    541.044983       leafly    542.013489   3.9432  -4.6125\n",
       "558   Topic20    538.010864         fair    538.979370   3.9432  -4.6181\n",
       "1491  Topic20    533.848938       medium    534.817444   3.9432  -4.6259\n",
       "246   Topic20    531.255249         word    532.223755   3.9432  -4.6307\n",
       "567   Topic20    517.601746         user    518.570251   3.9431  -4.6568\n",
       "1182  Topic20    516.693848            s    517.662354   3.9431  -4.6585\n",
       "1159  Topic20    489.932251        throw    490.900757   3.9430  -4.7117\n",
       "557   Topic20    422.352325       beauty    423.320831   3.9427  -4.8601\n",
       "1179  Topic20    405.844360         idea    406.812866   3.9426  -4.9000\n",
       "\n",
       "[630 rows x 6 columns], token_table=      Topic      Freq        Term\n",
       "term                             \n",
       "924       8  0.999520        able\n",
       "653      12  0.999647  absolutely\n",
       "1764      2  0.998379        ache\n",
       "991       5  0.999068      active\n",
       "832      16  0.999014    activity\n",
       "799      13  0.999312    actually\n",
       "2033      5  0.999197   afternoon\n",
       "1837     19  0.999126         ago\n",
       "923      13  0.998656       alert\n",
       "1517     18  0.998133       allow\n",
       "616       1  0.999853      almost\n",
       "1126     16  0.999514       alone\n",
       "857      13  0.999101     already\n",
       "315       1  0.999868        also\n",
       "291      11  0.999845      always\n",
       "260       3  0.999910     amazing\n",
       "366       8  0.999894     anxiety\n",
       "2399     18  0.999144      anyone\n",
       "14       12  0.999663    anything\n",
       "1586      7  0.999685    appetite\n",
       "1225     13  0.999067  appreciate\n",
       "249      19  0.999034        area\n",
       "876      10  0.999675       aroma\n",
       "625      12  0.998880      around\n",
       "894      13  0.999514         ass\n",
       "998       5  0.998746  atmosphere\n",
       "73       15  0.999337     average\n",
       "45        1  0.999723        away\n",
       "131      15  0.999865     awesome\n",
       "1554      3  0.998571        baby\n",
       "...     ...       ...         ...\n",
       "2402     19  0.999270        vibe\n",
       "914      10  0.999544       visit\n",
       "1210      8  0.999629        wait\n",
       "984      11  0.999227        wake\n",
       "960      11  0.998304   wake_bake\n",
       "329      15  0.999070        walk\n",
       "1716      2  0.998484       wanna\n",
       "294       1  0.999762        want\n",
       "759      11  0.999650       watch\n",
       "1703     11  0.998561        wave\n",
       "1354      3  0.999391         wax\n",
       "320      16  0.999845        weed\n",
       "2266      5  0.998319     welcome\n",
       "277       5  0.999826        well\n",
       "259      19  0.998992       white\n",
       "330      15  0.999412       whole\n",
       "1582      8  0.999025        wind\n",
       "2065      3  0.998437        wise\n",
       "206       8  0.999627      wonder\n",
       "451      10  0.999667   wonderful\n",
       "1631     17  0.998299       woody\n",
       "246      20  0.997701        word\n",
       "463       5  0.999876        work\n",
       "321       4  0.999388       world\n",
       "773       3  0.999246       worth\n",
       "432       2  0.999915       would\n",
       "1507      8  0.999008       write\n",
       "869       7  0.999332       wrong\n",
       "121      15  0.999510        year\n",
       "1242     15  0.999627         yet\n",
       "\n",
       "[600 rows x 3 columns], R=30, lambda_step=0.01, plot_opts={'xlab': 'PC1', 'ylab': 'PC2'}, topic_order=[16, 10, 4, 6, 17, 13, 1, 3, 8, 7, 5, 11, 20, 2, 19, 14, 15, 12, 18, 9])"
      ]
     },
     "execution_count": 157,
     "metadata": {},
     "output_type": "execute_result"
    }
   ],
   "source": [
    "# Visualize the topics\n",
    "pyLDAvis.enable_notebook()\n",
    "vis = pyLDAvis.gensim.prepare(lda_model, corpus, id2word)\n",
    "vis"
   ]
  },
  {
   "cell_type": "code",
   "execution_count": 158,
   "metadata": {},
   "outputs": [],
   "source": [
    "# Download File: http://mallet.cs.umass.edu/dist/mallet-2.0.8.zip\n",
    "mallet_path = '/Users/samchow/Desktop/InsightsProject/Trudope/mallet-2.0.8/bin/mallet'\n",
    "ldamallet = gensim.models.wrappers.LdaMallet(mallet_path, corpus=corpus, num_topics=20, id2word=id2word)\n"
   ]
  },
  {
   "cell_type": "code",
   "execution_count": null,
   "metadata": {},
   "outputs": [],
   "source": [
    "# Show Topics\n",
    "pprint(ldamallet.show_topics(formatted=False))\n",
    "\n",
    "# Compute Coherence Score\n",
    "coherence_model_ldamallet = CoherenceModel(model=ldamallet, texts=data_lemmatized, dictionary=id2word, coherence='c_v')\n",
    "coherence_ldamallet = coherence_model_ldamallet.get_coherence()\n",
    "print('\\nCoherence Score: ', coherence_ldamallet)"
   ]
  },
  {
   "cell_type": "code",
   "execution_count": 160,
   "metadata": {},
   "outputs": [],
   "source": [
    "#Train multiple models and provides best coherence score\n",
    "\n",
    "def compute_coherence_values(dictionary, corpus, texts, limit, start=2, step=3):\n",
    "    \"\"\"\n",
    "    Compute c_v coherence for various number of topics\n",
    "\n",
    "    Parameters:\n",
    "    ----------\n",
    "    dictionary : Gensim dictionary\n",
    "    corpus : Gensim corpus\n",
    "    texts : List of input texts\n",
    "    limit : Max num of topics\n",
    "\n",
    "    Returns:\n",
    "    -------\n",
    "    model_list : List of LDA topic models\n",
    "    coherence_values : Coherence values corresponding to the LDA model with respective number of topics\n",
    "    \"\"\"\n",
    "    coherence_values = []\n",
    "    model_list = []\n",
    "    for num_topics in range(start, limit, step):\n",
    "        model = gensim.models.wrappers.LdaMallet(mallet_path, corpus=corpus, num_topics=num_topics, id2word=id2word)\n",
    "        model_list.append(model)\n",
    "        coherencemodel = CoherenceModel(model=model, texts=texts, dictionary=dictionary, coherence='c_v')\n",
    "        coherence_values.append(coherencemodel.get_coherence())\n",
    "\n",
    "    return model_list, coherence_values"
   ]
  },
  {
   "cell_type": "code",
   "execution_count": 161,
   "metadata": {},
   "outputs": [
    {
     "data": {
      "image/png": "[encoded data removed]",
      "text/plain": [
       "<Figure size 432x288 with 1 Axes>"
      ]
     },
     "metadata": {
      "needs_background": "light"
     },
     "output_type": "display_data"
    },
    {
     "name": "stdout",
     "output_type": "stream",
     "text": [
      "Num Topics = 2  has Coherence Value of 0.2976\n",
      "Num Topics = 8  has Coherence Value of 0.4936\n",
      "Num Topics = 14  has Coherence Value of 0.4882\n",
      "Num Topics = 20  has Coherence Value of 0.4841\n",
      "Num Topics = 26  has Coherence Value of 0.4691\n",
      "Num Topics = 32  has Coherence Value of 0.4606\n",
      "Num Topics = 38  has Coherence Value of 0.4645\n"
     ]
    }
   ],
   "source": [
    "#Train and show graph and print outputs\n",
    "\n",
    "model_list, coherence_values = compute_coherence_values(dictionary=id2word, corpus=corpus, texts=data_lemmatized, start=2, limit=40, step=6)\n",
    "\n",
    "limit=40; start=2; step=6;\n",
    "x = range(start, limit, step)\n",
    "plt.plot(x, coherence_values)\n",
    "plt.xlabel(\"Num Topics\")\n",
    "plt.ylabel(\"Coherence score\")\n",
    "plt.legend((\"coherence_values\"), loc='best')\n",
    "plt.show()\n",
    "\n",
    "# Print the coherence scores\n",
    "for m, cv in zip(x, coherence_values):\n",
    "    print(\"Num Topics =\", m, \" has Coherence Value of\", round(cv, 4))"
   ]
  },
  {
   "cell_type": "code",
   "execution_count": null,
   "metadata": {},
   "outputs": [],
   "source": [
    "# Select the model and print topics\n",
    "optimal_model = model_list[3]\n",
    "model_topics = optimal_model.show_topics(formatted=False)\n",
    "pprint(optimal_model.print_topics(num_words=10))"
   ]
  },
  {
   "cell_type": "code",
   "execution_count": null,
   "metadata": {},
   "outputs": [],
   "source": [
    "#Find most repreentative document for each topic\n",
    "\n",
    "def format_topics_sentences(ldamodel=lda_model, corpus=corpus, texts=data):\n",
    "    # Init output\n",
    "    sent_topics_df = pd.DataFrame()\n",
    "\n",
    "    # Get main topic in each document\n",
    "    for i, row in enumerate(ldamodel[corpus]):\n",
    "        row = sorted(row, key=lambda x: (x[1]), reverse=True)\n",
    "        # Get the Dominant topic, Perc Contribution and Keywords for each document\n",
    "        for j, (topic_num, prop_topic) in enumerate(row):\n",
    "            if j == 0:  # => dominant topic\n",
    "                wp = ldamodel.show_topic(topic_num)\n",
    "                topic_keywords = \", \".join([word for word, prop in wp])\n",
    "                sent_topics_df = sent_topics_df.append(pd.Series([int(topic_num), round(prop_topic,4), topic_keywords]), ignore_index=True)\n",
    "            else:\n",
    "                break\n",
    "    sent_topics_df.columns = ['Dominant_Topic', 'Perc_Contribution', 'Topic_Keywords']\n",
    "\n",
    "    # Add original text to the end of the output\n",
    "    contents = pd.Series(texts)\n",
    "    sent_topics_df = pd.concat([sent_topics_df, contents], axis=1)\n",
    "    return(sent_topics_df)\n",
    "\n",
    "\n",
    "df_topic_sents_keywords = format_topics_sentences(ldamodel=optimal_model, corpus=corpus, texts=data)\n",
    "\n",
    "# Format\n",
    "df_dominant_topic = df_topic_sents_keywords.reset_index()\n",
    "df_dominant_topic.columns = ['Document_No', 'Dominant_Topic', 'Topic_Perc_Contrib', 'Keywords', 'Text']\n",
    "\n",
    "# Show\n",
    "df_dominant_topic.head(10)"
   ]
  },
  {
   "cell_type": "code",
   "execution_count": null,
   "metadata": {},
   "outputs": [],
   "source": [
    "#Topic Distribution\n",
    "\n",
    "# Number of Documents for Each Topic\n",
    "topic_counts = df_topic_sents_keywords['Dominant_Topic'].value_counts()\n",
    "\n",
    "# Percentage of Documents for Each Topic\n",
    "topic_contribution = round(topic_counts/topic_counts.sum(), 4)\n",
    "\n",
    "# Topic Number and Keywords\n",
    "topic_num_keywords = df_topic_sents_keywords[['Dominant_Topic', 'Topic_Keywords']]\n",
    "\n",
    "# Concatenate Column wise\n",
    "df_dominant_topics = pd.concat([topic_num_keywords, topic_counts, topic_contribution], axis=1)\n",
    "\n",
    "# Change Column names\n",
    "df_dominant_topics.columns = ['Dominant_Topic', 'Topic_Keywords', 'Num_Documents', 'Perc_Documents']\n",
    "\n",
    "# Show\n",
    "df_dominant_topics"
   ]
  },
  {
   "cell_type": "code",
   "execution_count": null,
   "metadata": {},
   "outputs": [],
   "source": []
  }
 ],
 "metadata": {
  "kernelspec": {
   "display_name": "Python 3",
   "language": "python",
   "name": "python3"
  },
  "language_info": {
   "codemirror_mode": {
    "name": "ipython",
    "version": 3
   },
   "file_extension": ".py",
   "mimetype": "text/x-python",
   "name": "python",
   "nbconvert_exporter": "python",
   "pygments_lexer": "ipython3",
   "version": "3.6.4"
  }
 },
 "nbformat": 4,
 "nbformat_minor": 2
}
